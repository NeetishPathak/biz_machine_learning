{
  "nbformat": 4,
  "nbformat_minor": 0,
  "metadata": {
    "colab": {
      "name": "Movie_Classifier.ipynb",
      "provenance": [],
      "collapsed_sections": [],
      "authorship_tag": "ABX9TyPIqjJCfRdT6Y1Ihu9WKB9r",
      "include_colab_link": true
    },
    "kernelspec": {
      "name": "python3",
      "display_name": "Python 3"
    },
    "language_info": {
      "name": "python"
    },
    "accelerator": "GPU",
    "gpuClass": "standard",
    "widgets": {
      "application/vnd.jupyter.widget-state+json": {
        "82d4b435e6304df5b59a32c372b7979e": {
          "model_module": "@jupyter-widgets/controls",
          "model_name": "HBoxModel",
          "model_module_version": "1.5.0",
          "state": {
            "_dom_classes": [],
            "_model_module": "@jupyter-widgets/controls",
            "_model_module_version": "1.5.0",
            "_model_name": "HBoxModel",
            "_view_count": null,
            "_view_module": "@jupyter-widgets/controls",
            "_view_module_version": "1.5.0",
            "_view_name": "HBoxView",
            "box_style": "",
            "children": [
              "IPY_MODEL_8c84a299084b4cb7bc1f76e6ac6c6679",
              "IPY_MODEL_c3d374a3ac9a407792c9d2573043da75",
              "IPY_MODEL_732b00437a86424bb7935bdd31664331"
            ],
            "layout": "IPY_MODEL_0ddf908621f64a69bd0101e46bfa2b4f"
          }
        },
        "8c84a299084b4cb7bc1f76e6ac6c6679": {
          "model_module": "@jupyter-widgets/controls",
          "model_name": "HTMLModel",
          "model_module_version": "1.5.0",
          "state": {
            "_dom_classes": [],
            "_model_module": "@jupyter-widgets/controls",
            "_model_module_version": "1.5.0",
            "_model_name": "HTMLModel",
            "_view_count": null,
            "_view_module": "@jupyter-widgets/controls",
            "_view_module_version": "1.5.0",
            "_view_name": "HTMLView",
            "description": "",
            "description_tooltip": null,
            "layout": "IPY_MODEL_84e9f3ce14314802a7568fcc745f5bd4",
            "placeholder": "​",
            "style": "IPY_MODEL_7d034f318610451885567ad65aa6d749",
            "value": "Dl Completed...: 100%"
          }
        },
        "c3d374a3ac9a407792c9d2573043da75": {
          "model_module": "@jupyter-widgets/controls",
          "model_name": "FloatProgressModel",
          "model_module_version": "1.5.0",
          "state": {
            "_dom_classes": [],
            "_model_module": "@jupyter-widgets/controls",
            "_model_module_version": "1.5.0",
            "_model_name": "FloatProgressModel",
            "_view_count": null,
            "_view_module": "@jupyter-widgets/controls",
            "_view_module_version": "1.5.0",
            "_view_name": "ProgressView",
            "bar_style": "success",
            "description": "",
            "description_tooltip": null,
            "layout": "IPY_MODEL_52277fe11c3e4a119ba9d29fa4bce754",
            "max": 1,
            "min": 0,
            "orientation": "horizontal",
            "style": "IPY_MODEL_fd8acd5dad254dc88c06737090a667a4",
            "value": 1
          }
        },
        "732b00437a86424bb7935bdd31664331": {
          "model_module": "@jupyter-widgets/controls",
          "model_name": "HTMLModel",
          "model_module_version": "1.5.0",
          "state": {
            "_dom_classes": [],
            "_model_module": "@jupyter-widgets/controls",
            "_model_module_version": "1.5.0",
            "_model_name": "HTMLModel",
            "_view_count": null,
            "_view_module": "@jupyter-widgets/controls",
            "_view_module_version": "1.5.0",
            "_view_name": "HTMLView",
            "description": "",
            "description_tooltip": null,
            "layout": "IPY_MODEL_d99625de6b6a4610a160367438acf9f6",
            "placeholder": "​",
            "style": "IPY_MODEL_db47750c58e44c7992ab94f45f3cf6c8",
            "value": " 1/1 [00:10&lt;00:00, 10.26s/ url]"
          }
        },
        "0ddf908621f64a69bd0101e46bfa2b4f": {
          "model_module": "@jupyter-widgets/base",
          "model_name": "LayoutModel",
          "model_module_version": "1.2.0",
          "state": {
            "_model_module": "@jupyter-widgets/base",
            "_model_module_version": "1.2.0",
            "_model_name": "LayoutModel",
            "_view_count": null,
            "_view_module": "@jupyter-widgets/base",
            "_view_module_version": "1.2.0",
            "_view_name": "LayoutView",
            "align_content": null,
            "align_items": null,
            "align_self": null,
            "border": null,
            "bottom": null,
            "display": null,
            "flex": null,
            "flex_flow": null,
            "grid_area": null,
            "grid_auto_columns": null,
            "grid_auto_flow": null,
            "grid_auto_rows": null,
            "grid_column": null,
            "grid_gap": null,
            "grid_row": null,
            "grid_template_areas": null,
            "grid_template_columns": null,
            "grid_template_rows": null,
            "height": null,
            "justify_content": null,
            "justify_items": null,
            "left": null,
            "margin": null,
            "max_height": null,
            "max_width": null,
            "min_height": null,
            "min_width": null,
            "object_fit": null,
            "object_position": null,
            "order": null,
            "overflow": null,
            "overflow_x": null,
            "overflow_y": null,
            "padding": null,
            "right": null,
            "top": null,
            "visibility": null,
            "width": null
          }
        },
        "84e9f3ce14314802a7568fcc745f5bd4": {
          "model_module": "@jupyter-widgets/base",
          "model_name": "LayoutModel",
          "model_module_version": "1.2.0",
          "state": {
            "_model_module": "@jupyter-widgets/base",
            "_model_module_version": "1.2.0",
            "_model_name": "LayoutModel",
            "_view_count": null,
            "_view_module": "@jupyter-widgets/base",
            "_view_module_version": "1.2.0",
            "_view_name": "LayoutView",
            "align_content": null,
            "align_items": null,
            "align_self": null,
            "border": null,
            "bottom": null,
            "display": null,
            "flex": null,
            "flex_flow": null,
            "grid_area": null,
            "grid_auto_columns": null,
            "grid_auto_flow": null,
            "grid_auto_rows": null,
            "grid_column": null,
            "grid_gap": null,
            "grid_row": null,
            "grid_template_areas": null,
            "grid_template_columns": null,
            "grid_template_rows": null,
            "height": null,
            "justify_content": null,
            "justify_items": null,
            "left": null,
            "margin": null,
            "max_height": null,
            "max_width": null,
            "min_height": null,
            "min_width": null,
            "object_fit": null,
            "object_position": null,
            "order": null,
            "overflow": null,
            "overflow_x": null,
            "overflow_y": null,
            "padding": null,
            "right": null,
            "top": null,
            "visibility": null,
            "width": null
          }
        },
        "7d034f318610451885567ad65aa6d749": {
          "model_module": "@jupyter-widgets/controls",
          "model_name": "DescriptionStyleModel",
          "model_module_version": "1.5.0",
          "state": {
            "_model_module": "@jupyter-widgets/controls",
            "_model_module_version": "1.5.0",
            "_model_name": "DescriptionStyleModel",
            "_view_count": null,
            "_view_module": "@jupyter-widgets/base",
            "_view_module_version": "1.2.0",
            "_view_name": "StyleView",
            "description_width": ""
          }
        },
        "52277fe11c3e4a119ba9d29fa4bce754": {
          "model_module": "@jupyter-widgets/base",
          "model_name": "LayoutModel",
          "model_module_version": "1.2.0",
          "state": {
            "_model_module": "@jupyter-widgets/base",
            "_model_module_version": "1.2.0",
            "_model_name": "LayoutModel",
            "_view_count": null,
            "_view_module": "@jupyter-widgets/base",
            "_view_module_version": "1.2.0",
            "_view_name": "LayoutView",
            "align_content": null,
            "align_items": null,
            "align_self": null,
            "border": null,
            "bottom": null,
            "display": null,
            "flex": null,
            "flex_flow": null,
            "grid_area": null,
            "grid_auto_columns": null,
            "grid_auto_flow": null,
            "grid_auto_rows": null,
            "grid_column": null,
            "grid_gap": null,
            "grid_row": null,
            "grid_template_areas": null,
            "grid_template_columns": null,
            "grid_template_rows": null,
            "height": null,
            "justify_content": null,
            "justify_items": null,
            "left": null,
            "margin": null,
            "max_height": null,
            "max_width": null,
            "min_height": null,
            "min_width": null,
            "object_fit": null,
            "object_position": null,
            "order": null,
            "overflow": null,
            "overflow_x": null,
            "overflow_y": null,
            "padding": null,
            "right": null,
            "top": null,
            "visibility": null,
            "width": "20px"
          }
        },
        "fd8acd5dad254dc88c06737090a667a4": {
          "model_module": "@jupyter-widgets/controls",
          "model_name": "ProgressStyleModel",
          "model_module_version": "1.5.0",
          "state": {
            "_model_module": "@jupyter-widgets/controls",
            "_model_module_version": "1.5.0",
            "_model_name": "ProgressStyleModel",
            "_view_count": null,
            "_view_module": "@jupyter-widgets/base",
            "_view_module_version": "1.2.0",
            "_view_name": "StyleView",
            "bar_color": null,
            "description_width": ""
          }
        },
        "d99625de6b6a4610a160367438acf9f6": {
          "model_module": "@jupyter-widgets/base",
          "model_name": "LayoutModel",
          "model_module_version": "1.2.0",
          "state": {
            "_model_module": "@jupyter-widgets/base",
            "_model_module_version": "1.2.0",
            "_model_name": "LayoutModel",
            "_view_count": null,
            "_view_module": "@jupyter-widgets/base",
            "_view_module_version": "1.2.0",
            "_view_name": "LayoutView",
            "align_content": null,
            "align_items": null,
            "align_self": null,
            "border": null,
            "bottom": null,
            "display": null,
            "flex": null,
            "flex_flow": null,
            "grid_area": null,
            "grid_auto_columns": null,
            "grid_auto_flow": null,
            "grid_auto_rows": null,
            "grid_column": null,
            "grid_gap": null,
            "grid_row": null,
            "grid_template_areas": null,
            "grid_template_columns": null,
            "grid_template_rows": null,
            "height": null,
            "justify_content": null,
            "justify_items": null,
            "left": null,
            "margin": null,
            "max_height": null,
            "max_width": null,
            "min_height": null,
            "min_width": null,
            "object_fit": null,
            "object_position": null,
            "order": null,
            "overflow": null,
            "overflow_x": null,
            "overflow_y": null,
            "padding": null,
            "right": null,
            "top": null,
            "visibility": null,
            "width": null
          }
        },
        "db47750c58e44c7992ab94f45f3cf6c8": {
          "model_module": "@jupyter-widgets/controls",
          "model_name": "DescriptionStyleModel",
          "model_module_version": "1.5.0",
          "state": {
            "_model_module": "@jupyter-widgets/controls",
            "_model_module_version": "1.5.0",
            "_model_name": "DescriptionStyleModel",
            "_view_count": null,
            "_view_module": "@jupyter-widgets/base",
            "_view_module_version": "1.2.0",
            "_view_name": "StyleView",
            "description_width": ""
          }
        },
        "acc0d792b9ba45b79f38ae46169a3aee": {
          "model_module": "@jupyter-widgets/controls",
          "model_name": "HBoxModel",
          "model_module_version": "1.5.0",
          "state": {
            "_dom_classes": [],
            "_model_module": "@jupyter-widgets/controls",
            "_model_module_version": "1.5.0",
            "_model_name": "HBoxModel",
            "_view_count": null,
            "_view_module": "@jupyter-widgets/controls",
            "_view_module_version": "1.5.0",
            "_view_name": "HBoxView",
            "box_style": "",
            "children": [
              "IPY_MODEL_1db3d487fb5448db90d93774925592e4",
              "IPY_MODEL_f73761bffe08453a922ac0341e697610",
              "IPY_MODEL_23a8fef8aba540848194a4991b31d0e4"
            ],
            "layout": "IPY_MODEL_68744b5aa9a843399e2da625a5f17b8c"
          }
        },
        "1db3d487fb5448db90d93774925592e4": {
          "model_module": "@jupyter-widgets/controls",
          "model_name": "HTMLModel",
          "model_module_version": "1.5.0",
          "state": {
            "_dom_classes": [],
            "_model_module": "@jupyter-widgets/controls",
            "_model_module_version": "1.5.0",
            "_model_name": "HTMLModel",
            "_view_count": null,
            "_view_module": "@jupyter-widgets/controls",
            "_view_module_version": "1.5.0",
            "_view_name": "HTMLView",
            "description": "",
            "description_tooltip": null,
            "layout": "IPY_MODEL_ff9b70b6db664c41910f5fb30d3e2a50",
            "placeholder": "​",
            "style": "IPY_MODEL_2727fd45a0c14ab9af1b9eb827be32ab",
            "value": "Dl Size...: 100%"
          }
        },
        "f73761bffe08453a922ac0341e697610": {
          "model_module": "@jupyter-widgets/controls",
          "model_name": "FloatProgressModel",
          "model_module_version": "1.5.0",
          "state": {
            "_dom_classes": [],
            "_model_module": "@jupyter-widgets/controls",
            "_model_module_version": "1.5.0",
            "_model_name": "FloatProgressModel",
            "_view_count": null,
            "_view_module": "@jupyter-widgets/controls",
            "_view_module_version": "1.5.0",
            "_view_name": "ProgressView",
            "bar_style": "success",
            "description": "",
            "description_tooltip": null,
            "layout": "IPY_MODEL_a1abec3f9fba414da80bb02149129d0c",
            "max": 1,
            "min": 0,
            "orientation": "horizontal",
            "style": "IPY_MODEL_4acb96fa7d7a4c21b9d9a97f0db93d3e",
            "value": 1
          }
        },
        "23a8fef8aba540848194a4991b31d0e4": {
          "model_module": "@jupyter-widgets/controls",
          "model_name": "HTMLModel",
          "model_module_version": "1.5.0",
          "state": {
            "_dom_classes": [],
            "_model_module": "@jupyter-widgets/controls",
            "_model_module_version": "1.5.0",
            "_model_name": "HTMLModel",
            "_view_count": null,
            "_view_module": "@jupyter-widgets/controls",
            "_view_module_version": "1.5.0",
            "_view_name": "HTMLView",
            "description": "",
            "description_tooltip": null,
            "layout": "IPY_MODEL_0663e67a228f4cfba667c0e8ee900427",
            "placeholder": "​",
            "style": "IPY_MODEL_099befc3477546a687c916039d7dd4aa",
            "value": " 80/80 [00:10&lt;00:00, 15.67 MiB/s]"
          }
        },
        "68744b5aa9a843399e2da625a5f17b8c": {
          "model_module": "@jupyter-widgets/base",
          "model_name": "LayoutModel",
          "model_module_version": "1.2.0",
          "state": {
            "_model_module": "@jupyter-widgets/base",
            "_model_module_version": "1.2.0",
            "_model_name": "LayoutModel",
            "_view_count": null,
            "_view_module": "@jupyter-widgets/base",
            "_view_module_version": "1.2.0",
            "_view_name": "LayoutView",
            "align_content": null,
            "align_items": null,
            "align_self": null,
            "border": null,
            "bottom": null,
            "display": null,
            "flex": null,
            "flex_flow": null,
            "grid_area": null,
            "grid_auto_columns": null,
            "grid_auto_flow": null,
            "grid_auto_rows": null,
            "grid_column": null,
            "grid_gap": null,
            "grid_row": null,
            "grid_template_areas": null,
            "grid_template_columns": null,
            "grid_template_rows": null,
            "height": null,
            "justify_content": null,
            "justify_items": null,
            "left": null,
            "margin": null,
            "max_height": null,
            "max_width": null,
            "min_height": null,
            "min_width": null,
            "object_fit": null,
            "object_position": null,
            "order": null,
            "overflow": null,
            "overflow_x": null,
            "overflow_y": null,
            "padding": null,
            "right": null,
            "top": null,
            "visibility": null,
            "width": null
          }
        },
        "ff9b70b6db664c41910f5fb30d3e2a50": {
          "model_module": "@jupyter-widgets/base",
          "model_name": "LayoutModel",
          "model_module_version": "1.2.0",
          "state": {
            "_model_module": "@jupyter-widgets/base",
            "_model_module_version": "1.2.0",
            "_model_name": "LayoutModel",
            "_view_count": null,
            "_view_module": "@jupyter-widgets/base",
            "_view_module_version": "1.2.0",
            "_view_name": "LayoutView",
            "align_content": null,
            "align_items": null,
            "align_self": null,
            "border": null,
            "bottom": null,
            "display": null,
            "flex": null,
            "flex_flow": null,
            "grid_area": null,
            "grid_auto_columns": null,
            "grid_auto_flow": null,
            "grid_auto_rows": null,
            "grid_column": null,
            "grid_gap": null,
            "grid_row": null,
            "grid_template_areas": null,
            "grid_template_columns": null,
            "grid_template_rows": null,
            "height": null,
            "justify_content": null,
            "justify_items": null,
            "left": null,
            "margin": null,
            "max_height": null,
            "max_width": null,
            "min_height": null,
            "min_width": null,
            "object_fit": null,
            "object_position": null,
            "order": null,
            "overflow": null,
            "overflow_x": null,
            "overflow_y": null,
            "padding": null,
            "right": null,
            "top": null,
            "visibility": null,
            "width": null
          }
        },
        "2727fd45a0c14ab9af1b9eb827be32ab": {
          "model_module": "@jupyter-widgets/controls",
          "model_name": "DescriptionStyleModel",
          "model_module_version": "1.5.0",
          "state": {
            "_model_module": "@jupyter-widgets/controls",
            "_model_module_version": "1.5.0",
            "_model_name": "DescriptionStyleModel",
            "_view_count": null,
            "_view_module": "@jupyter-widgets/base",
            "_view_module_version": "1.2.0",
            "_view_name": "StyleView",
            "description_width": ""
          }
        },
        "a1abec3f9fba414da80bb02149129d0c": {
          "model_module": "@jupyter-widgets/base",
          "model_name": "LayoutModel",
          "model_module_version": "1.2.0",
          "state": {
            "_model_module": "@jupyter-widgets/base",
            "_model_module_version": "1.2.0",
            "_model_name": "LayoutModel",
            "_view_count": null,
            "_view_module": "@jupyter-widgets/base",
            "_view_module_version": "1.2.0",
            "_view_name": "LayoutView",
            "align_content": null,
            "align_items": null,
            "align_self": null,
            "border": null,
            "bottom": null,
            "display": null,
            "flex": null,
            "flex_flow": null,
            "grid_area": null,
            "grid_auto_columns": null,
            "grid_auto_flow": null,
            "grid_auto_rows": null,
            "grid_column": null,
            "grid_gap": null,
            "grid_row": null,
            "grid_template_areas": null,
            "grid_template_columns": null,
            "grid_template_rows": null,
            "height": null,
            "justify_content": null,
            "justify_items": null,
            "left": null,
            "margin": null,
            "max_height": null,
            "max_width": null,
            "min_height": null,
            "min_width": null,
            "object_fit": null,
            "object_position": null,
            "order": null,
            "overflow": null,
            "overflow_x": null,
            "overflow_y": null,
            "padding": null,
            "right": null,
            "top": null,
            "visibility": null,
            "width": "20px"
          }
        },
        "4acb96fa7d7a4c21b9d9a97f0db93d3e": {
          "model_module": "@jupyter-widgets/controls",
          "model_name": "ProgressStyleModel",
          "model_module_version": "1.5.0",
          "state": {
            "_model_module": "@jupyter-widgets/controls",
            "_model_module_version": "1.5.0",
            "_model_name": "ProgressStyleModel",
            "_view_count": null,
            "_view_module": "@jupyter-widgets/base",
            "_view_module_version": "1.2.0",
            "_view_name": "StyleView",
            "bar_color": null,
            "description_width": ""
          }
        },
        "0663e67a228f4cfba667c0e8ee900427": {
          "model_module": "@jupyter-widgets/base",
          "model_name": "LayoutModel",
          "model_module_version": "1.2.0",
          "state": {
            "_model_module": "@jupyter-widgets/base",
            "_model_module_version": "1.2.0",
            "_model_name": "LayoutModel",
            "_view_count": null,
            "_view_module": "@jupyter-widgets/base",
            "_view_module_version": "1.2.0",
            "_view_name": "LayoutView",
            "align_content": null,
            "align_items": null,
            "align_self": null,
            "border": null,
            "bottom": null,
            "display": null,
            "flex": null,
            "flex_flow": null,
            "grid_area": null,
            "grid_auto_columns": null,
            "grid_auto_flow": null,
            "grid_auto_rows": null,
            "grid_column": null,
            "grid_gap": null,
            "grid_row": null,
            "grid_template_areas": null,
            "grid_template_columns": null,
            "grid_template_rows": null,
            "height": null,
            "justify_content": null,
            "justify_items": null,
            "left": null,
            "margin": null,
            "max_height": null,
            "max_width": null,
            "min_height": null,
            "min_width": null,
            "object_fit": null,
            "object_position": null,
            "order": null,
            "overflow": null,
            "overflow_x": null,
            "overflow_y": null,
            "padding": null,
            "right": null,
            "top": null,
            "visibility": null,
            "width": null
          }
        },
        "099befc3477546a687c916039d7dd4aa": {
          "model_module": "@jupyter-widgets/controls",
          "model_name": "DescriptionStyleModel",
          "model_module_version": "1.5.0",
          "state": {
            "_model_module": "@jupyter-widgets/controls",
            "_model_module_version": "1.5.0",
            "_model_name": "DescriptionStyleModel",
            "_view_count": null,
            "_view_module": "@jupyter-widgets/base",
            "_view_module_version": "1.2.0",
            "_view_name": "StyleView",
            "description_width": ""
          }
        },
        "8ae416d43701427ab8e49f30e0769031": {
          "model_module": "@jupyter-widgets/controls",
          "model_name": "HBoxModel",
          "model_module_version": "1.5.0",
          "state": {
            "_dom_classes": [],
            "_model_module": "@jupyter-widgets/controls",
            "_model_module_version": "1.5.0",
            "_model_name": "HBoxModel",
            "_view_count": null,
            "_view_module": "@jupyter-widgets/controls",
            "_view_module_version": "1.5.0",
            "_view_name": "HBoxView",
            "box_style": "",
            "children": [
              "IPY_MODEL_37693f42ad9b4e099570c903f6332f0f",
              "IPY_MODEL_5b3da7bab79642bbb98df0ef529d9802",
              "IPY_MODEL_1483911bde59441a8ecf1d5da7be014d"
            ],
            "layout": "IPY_MODEL_a158c17e85624ce487166092213fc8ec"
          }
        },
        "37693f42ad9b4e099570c903f6332f0f": {
          "model_module": "@jupyter-widgets/controls",
          "model_name": "HTMLModel",
          "model_module_version": "1.5.0",
          "state": {
            "_dom_classes": [],
            "_model_module": "@jupyter-widgets/controls",
            "_model_module_version": "1.5.0",
            "_model_name": "HTMLModel",
            "_view_count": null,
            "_view_module": "@jupyter-widgets/controls",
            "_view_module_version": "1.5.0",
            "_view_name": "HTMLView",
            "description": "",
            "description_tooltip": null,
            "layout": "IPY_MODEL_16e25d23f1854282ba0cc209c5a3ceda",
            "placeholder": "​",
            "style": "IPY_MODEL_0e36e10ff08f4f54b7bf8d061ae79323",
            "value": ""
          }
        },
        "5b3da7bab79642bbb98df0ef529d9802": {
          "model_module": "@jupyter-widgets/controls",
          "model_name": "FloatProgressModel",
          "model_module_version": "1.5.0",
          "state": {
            "_dom_classes": [],
            "_model_module": "@jupyter-widgets/controls",
            "_model_module_version": "1.5.0",
            "_model_name": "FloatProgressModel",
            "_view_count": null,
            "_view_module": "@jupyter-widgets/controls",
            "_view_module_version": "1.5.0",
            "_view_name": "ProgressView",
            "bar_style": "info",
            "description": "",
            "description_tooltip": null,
            "layout": "IPY_MODEL_762775a03e4540b8a58281ec691c01c0",
            "max": 1,
            "min": 0,
            "orientation": "horizontal",
            "style": "IPY_MODEL_19c213ee103b46f1a8854ce339b96079",
            "value": 1
          }
        },
        "1483911bde59441a8ecf1d5da7be014d": {
          "model_module": "@jupyter-widgets/controls",
          "model_name": "HTMLModel",
          "model_module_version": "1.5.0",
          "state": {
            "_dom_classes": [],
            "_model_module": "@jupyter-widgets/controls",
            "_model_module_version": "1.5.0",
            "_model_name": "HTMLModel",
            "_view_count": null,
            "_view_module": "@jupyter-widgets/controls",
            "_view_module_version": "1.5.0",
            "_view_name": "HTMLView",
            "description": "",
            "description_tooltip": null,
            "layout": "IPY_MODEL_8fa6ab50c2e5471cbc8b466eb9868678",
            "placeholder": "​",
            "style": "IPY_MODEL_5368e81a3672491e801b2cae735cd4af",
            "value": " 24771/0 [00:09&lt;00:00, 3666.52 examples/s]"
          }
        },
        "a158c17e85624ce487166092213fc8ec": {
          "model_module": "@jupyter-widgets/base",
          "model_name": "LayoutModel",
          "model_module_version": "1.2.0",
          "state": {
            "_model_module": "@jupyter-widgets/base",
            "_model_module_version": "1.2.0",
            "_model_name": "LayoutModel",
            "_view_count": null,
            "_view_module": "@jupyter-widgets/base",
            "_view_module_version": "1.2.0",
            "_view_name": "LayoutView",
            "align_content": null,
            "align_items": null,
            "align_self": null,
            "border": null,
            "bottom": null,
            "display": null,
            "flex": null,
            "flex_flow": null,
            "grid_area": null,
            "grid_auto_columns": null,
            "grid_auto_flow": null,
            "grid_auto_rows": null,
            "grid_column": null,
            "grid_gap": null,
            "grid_row": null,
            "grid_template_areas": null,
            "grid_template_columns": null,
            "grid_template_rows": null,
            "height": null,
            "justify_content": null,
            "justify_items": null,
            "left": null,
            "margin": null,
            "max_height": null,
            "max_width": null,
            "min_height": null,
            "min_width": null,
            "object_fit": null,
            "object_position": null,
            "order": null,
            "overflow": null,
            "overflow_x": null,
            "overflow_y": null,
            "padding": null,
            "right": null,
            "top": null,
            "visibility": null,
            "width": null
          }
        },
        "16e25d23f1854282ba0cc209c5a3ceda": {
          "model_module": "@jupyter-widgets/base",
          "model_name": "LayoutModel",
          "model_module_version": "1.2.0",
          "state": {
            "_model_module": "@jupyter-widgets/base",
            "_model_module_version": "1.2.0",
            "_model_name": "LayoutModel",
            "_view_count": null,
            "_view_module": "@jupyter-widgets/base",
            "_view_module_version": "1.2.0",
            "_view_name": "LayoutView",
            "align_content": null,
            "align_items": null,
            "align_self": null,
            "border": null,
            "bottom": null,
            "display": null,
            "flex": null,
            "flex_flow": null,
            "grid_area": null,
            "grid_auto_columns": null,
            "grid_auto_flow": null,
            "grid_auto_rows": null,
            "grid_column": null,
            "grid_gap": null,
            "grid_row": null,
            "grid_template_areas": null,
            "grid_template_columns": null,
            "grid_template_rows": null,
            "height": null,
            "justify_content": null,
            "justify_items": null,
            "left": null,
            "margin": null,
            "max_height": null,
            "max_width": null,
            "min_height": null,
            "min_width": null,
            "object_fit": null,
            "object_position": null,
            "order": null,
            "overflow": null,
            "overflow_x": null,
            "overflow_y": null,
            "padding": null,
            "right": null,
            "top": null,
            "visibility": null,
            "width": null
          }
        },
        "0e36e10ff08f4f54b7bf8d061ae79323": {
          "model_module": "@jupyter-widgets/controls",
          "model_name": "DescriptionStyleModel",
          "model_module_version": "1.5.0",
          "state": {
            "_model_module": "@jupyter-widgets/controls",
            "_model_module_version": "1.5.0",
            "_model_name": "DescriptionStyleModel",
            "_view_count": null,
            "_view_module": "@jupyter-widgets/base",
            "_view_module_version": "1.2.0",
            "_view_name": "StyleView",
            "description_width": ""
          }
        },
        "762775a03e4540b8a58281ec691c01c0": {
          "model_module": "@jupyter-widgets/base",
          "model_name": "LayoutModel",
          "model_module_version": "1.2.0",
          "state": {
            "_model_module": "@jupyter-widgets/base",
            "_model_module_version": "1.2.0",
            "_model_name": "LayoutModel",
            "_view_count": null,
            "_view_module": "@jupyter-widgets/base",
            "_view_module_version": "1.2.0",
            "_view_name": "LayoutView",
            "align_content": null,
            "align_items": null,
            "align_self": null,
            "border": null,
            "bottom": null,
            "display": null,
            "flex": null,
            "flex_flow": null,
            "grid_area": null,
            "grid_auto_columns": null,
            "grid_auto_flow": null,
            "grid_auto_rows": null,
            "grid_column": null,
            "grid_gap": null,
            "grid_row": null,
            "grid_template_areas": null,
            "grid_template_columns": null,
            "grid_template_rows": null,
            "height": null,
            "justify_content": null,
            "justify_items": null,
            "left": null,
            "margin": null,
            "max_height": null,
            "max_width": null,
            "min_height": null,
            "min_width": null,
            "object_fit": null,
            "object_position": null,
            "order": null,
            "overflow": null,
            "overflow_x": null,
            "overflow_y": null,
            "padding": null,
            "right": null,
            "top": null,
            "visibility": null,
            "width": "20px"
          }
        },
        "19c213ee103b46f1a8854ce339b96079": {
          "model_module": "@jupyter-widgets/controls",
          "model_name": "ProgressStyleModel",
          "model_module_version": "1.5.0",
          "state": {
            "_model_module": "@jupyter-widgets/controls",
            "_model_module_version": "1.5.0",
            "_model_name": "ProgressStyleModel",
            "_view_count": null,
            "_view_module": "@jupyter-widgets/base",
            "_view_module_version": "1.2.0",
            "_view_name": "StyleView",
            "bar_color": null,
            "description_width": ""
          }
        },
        "8fa6ab50c2e5471cbc8b466eb9868678": {
          "model_module": "@jupyter-widgets/base",
          "model_name": "LayoutModel",
          "model_module_version": "1.2.0",
          "state": {
            "_model_module": "@jupyter-widgets/base",
            "_model_module_version": "1.2.0",
            "_model_name": "LayoutModel",
            "_view_count": null,
            "_view_module": "@jupyter-widgets/base",
            "_view_module_version": "1.2.0",
            "_view_name": "LayoutView",
            "align_content": null,
            "align_items": null,
            "align_self": null,
            "border": null,
            "bottom": null,
            "display": null,
            "flex": null,
            "flex_flow": null,
            "grid_area": null,
            "grid_auto_columns": null,
            "grid_auto_flow": null,
            "grid_auto_rows": null,
            "grid_column": null,
            "grid_gap": null,
            "grid_row": null,
            "grid_template_areas": null,
            "grid_template_columns": null,
            "grid_template_rows": null,
            "height": null,
            "justify_content": null,
            "justify_items": null,
            "left": null,
            "margin": null,
            "max_height": null,
            "max_width": null,
            "min_height": null,
            "min_width": null,
            "object_fit": null,
            "object_position": null,
            "order": null,
            "overflow": null,
            "overflow_x": null,
            "overflow_y": null,
            "padding": null,
            "right": null,
            "top": null,
            "visibility": null,
            "width": null
          }
        },
        "5368e81a3672491e801b2cae735cd4af": {
          "model_module": "@jupyter-widgets/controls",
          "model_name": "DescriptionStyleModel",
          "model_module_version": "1.5.0",
          "state": {
            "_model_module": "@jupyter-widgets/controls",
            "_model_module_version": "1.5.0",
            "_model_name": "DescriptionStyleModel",
            "_view_count": null,
            "_view_module": "@jupyter-widgets/base",
            "_view_module_version": "1.2.0",
            "_view_name": "StyleView",
            "description_width": ""
          }
        },
        "c91334c745d14bf591bad1ccfde7fd98": {
          "model_module": "@jupyter-widgets/controls",
          "model_name": "HBoxModel",
          "model_module_version": "1.5.0",
          "state": {
            "_dom_classes": [],
            "_model_module": "@jupyter-widgets/controls",
            "_model_module_version": "1.5.0",
            "_model_name": "HBoxModel",
            "_view_count": null,
            "_view_module": "@jupyter-widgets/controls",
            "_view_module_version": "1.5.0",
            "_view_name": "HBoxView",
            "box_style": "",
            "children": [
              "IPY_MODEL_a6019a5db099454bb54e1ef517458902",
              "IPY_MODEL_d90dea0e14da42d1b2df26e8acbb28c0",
              "IPY_MODEL_f3358820f5ef4776b1ff01b210de09b4"
            ],
            "layout": "IPY_MODEL_2956fd34687f4d9d939c781f30b0cc7b"
          }
        },
        "a6019a5db099454bb54e1ef517458902": {
          "model_module": "@jupyter-widgets/controls",
          "model_name": "HTMLModel",
          "model_module_version": "1.5.0",
          "state": {
            "_dom_classes": [],
            "_model_module": "@jupyter-widgets/controls",
            "_model_module_version": "1.5.0",
            "_model_name": "HTMLModel",
            "_view_count": null,
            "_view_module": "@jupyter-widgets/controls",
            "_view_module_version": "1.5.0",
            "_view_name": "HTMLView",
            "description": "",
            "description_tooltip": null,
            "layout": "IPY_MODEL_6e15609b24c54620a2ba6a6aa2261072",
            "placeholder": "​",
            "style": "IPY_MODEL_f5af5a14d2a54f85935ccfa35734a212",
            "value": "100%"
          }
        },
        "d90dea0e14da42d1b2df26e8acbb28c0": {
          "model_module": "@jupyter-widgets/controls",
          "model_name": "FloatProgressModel",
          "model_module_version": "1.5.0",
          "state": {
            "_dom_classes": [],
            "_model_module": "@jupyter-widgets/controls",
            "_model_module_version": "1.5.0",
            "_model_name": "FloatProgressModel",
            "_view_count": null,
            "_view_module": "@jupyter-widgets/controls",
            "_view_module_version": "1.5.0",
            "_view_name": "ProgressView",
            "bar_style": "danger",
            "description": "",
            "description_tooltip": null,
            "layout": "IPY_MODEL_5d27aeafc70f47549d76180ae06e049a",
            "max": 25000,
            "min": 0,
            "orientation": "horizontal",
            "style": "IPY_MODEL_d439792f65b6430e8c96d33b362d4489",
            "value": 24999
          }
        },
        "f3358820f5ef4776b1ff01b210de09b4": {
          "model_module": "@jupyter-widgets/controls",
          "model_name": "HTMLModel",
          "model_module_version": "1.5.0",
          "state": {
            "_dom_classes": [],
            "_model_module": "@jupyter-widgets/controls",
            "_model_module_version": "1.5.0",
            "_model_name": "HTMLModel",
            "_view_count": null,
            "_view_module": "@jupyter-widgets/controls",
            "_view_module_version": "1.5.0",
            "_view_name": "HTMLView",
            "description": "",
            "description_tooltip": null,
            "layout": "IPY_MODEL_f39d0b8a02ba4625ab0251c9ab592582",
            "placeholder": "​",
            "style": "IPY_MODEL_58abce5478094f15902b1b242b6e52a4",
            "value": " 24999/25000 [00:00&lt;00:00, 86621.41 examples/s]"
          }
        },
        "2956fd34687f4d9d939c781f30b0cc7b": {
          "model_module": "@jupyter-widgets/base",
          "model_name": "LayoutModel",
          "model_module_version": "1.2.0",
          "state": {
            "_model_module": "@jupyter-widgets/base",
            "_model_module_version": "1.2.0",
            "_model_name": "LayoutModel",
            "_view_count": null,
            "_view_module": "@jupyter-widgets/base",
            "_view_module_version": "1.2.0",
            "_view_name": "LayoutView",
            "align_content": null,
            "align_items": null,
            "align_self": null,
            "border": null,
            "bottom": null,
            "display": null,
            "flex": null,
            "flex_flow": null,
            "grid_area": null,
            "grid_auto_columns": null,
            "grid_auto_flow": null,
            "grid_auto_rows": null,
            "grid_column": null,
            "grid_gap": null,
            "grid_row": null,
            "grid_template_areas": null,
            "grid_template_columns": null,
            "grid_template_rows": null,
            "height": null,
            "justify_content": null,
            "justify_items": null,
            "left": null,
            "margin": null,
            "max_height": null,
            "max_width": null,
            "min_height": null,
            "min_width": null,
            "object_fit": null,
            "object_position": null,
            "order": null,
            "overflow": null,
            "overflow_x": null,
            "overflow_y": null,
            "padding": null,
            "right": null,
            "top": null,
            "visibility": null,
            "width": null
          }
        },
        "6e15609b24c54620a2ba6a6aa2261072": {
          "model_module": "@jupyter-widgets/base",
          "model_name": "LayoutModel",
          "model_module_version": "1.2.0",
          "state": {
            "_model_module": "@jupyter-widgets/base",
            "_model_module_version": "1.2.0",
            "_model_name": "LayoutModel",
            "_view_count": null,
            "_view_module": "@jupyter-widgets/base",
            "_view_module_version": "1.2.0",
            "_view_name": "LayoutView",
            "align_content": null,
            "align_items": null,
            "align_self": null,
            "border": null,
            "bottom": null,
            "display": null,
            "flex": null,
            "flex_flow": null,
            "grid_area": null,
            "grid_auto_columns": null,
            "grid_auto_flow": null,
            "grid_auto_rows": null,
            "grid_column": null,
            "grid_gap": null,
            "grid_row": null,
            "grid_template_areas": null,
            "grid_template_columns": null,
            "grid_template_rows": null,
            "height": null,
            "justify_content": null,
            "justify_items": null,
            "left": null,
            "margin": null,
            "max_height": null,
            "max_width": null,
            "min_height": null,
            "min_width": null,
            "object_fit": null,
            "object_position": null,
            "order": null,
            "overflow": null,
            "overflow_x": null,
            "overflow_y": null,
            "padding": null,
            "right": null,
            "top": null,
            "visibility": null,
            "width": null
          }
        },
        "f5af5a14d2a54f85935ccfa35734a212": {
          "model_module": "@jupyter-widgets/controls",
          "model_name": "DescriptionStyleModel",
          "model_module_version": "1.5.0",
          "state": {
            "_model_module": "@jupyter-widgets/controls",
            "_model_module_version": "1.5.0",
            "_model_name": "DescriptionStyleModel",
            "_view_count": null,
            "_view_module": "@jupyter-widgets/base",
            "_view_module_version": "1.2.0",
            "_view_name": "StyleView",
            "description_width": ""
          }
        },
        "5d27aeafc70f47549d76180ae06e049a": {
          "model_module": "@jupyter-widgets/base",
          "model_name": "LayoutModel",
          "model_module_version": "1.2.0",
          "state": {
            "_model_module": "@jupyter-widgets/base",
            "_model_module_version": "1.2.0",
            "_model_name": "LayoutModel",
            "_view_count": null,
            "_view_module": "@jupyter-widgets/base",
            "_view_module_version": "1.2.0",
            "_view_name": "LayoutView",
            "align_content": null,
            "align_items": null,
            "align_self": null,
            "border": null,
            "bottom": null,
            "display": null,
            "flex": null,
            "flex_flow": null,
            "grid_area": null,
            "grid_auto_columns": null,
            "grid_auto_flow": null,
            "grid_auto_rows": null,
            "grid_column": null,
            "grid_gap": null,
            "grid_row": null,
            "grid_template_areas": null,
            "grid_template_columns": null,
            "grid_template_rows": null,
            "height": null,
            "justify_content": null,
            "justify_items": null,
            "left": null,
            "margin": null,
            "max_height": null,
            "max_width": null,
            "min_height": null,
            "min_width": null,
            "object_fit": null,
            "object_position": null,
            "order": null,
            "overflow": null,
            "overflow_x": null,
            "overflow_y": null,
            "padding": null,
            "right": null,
            "top": null,
            "visibility": null,
            "width": null
          }
        },
        "d439792f65b6430e8c96d33b362d4489": {
          "model_module": "@jupyter-widgets/controls",
          "model_name": "ProgressStyleModel",
          "model_module_version": "1.5.0",
          "state": {
            "_model_module": "@jupyter-widgets/controls",
            "_model_module_version": "1.5.0",
            "_model_name": "ProgressStyleModel",
            "_view_count": null,
            "_view_module": "@jupyter-widgets/base",
            "_view_module_version": "1.2.0",
            "_view_name": "StyleView",
            "bar_color": null,
            "description_width": ""
          }
        },
        "f39d0b8a02ba4625ab0251c9ab592582": {
          "model_module": "@jupyter-widgets/base",
          "model_name": "LayoutModel",
          "model_module_version": "1.2.0",
          "state": {
            "_model_module": "@jupyter-widgets/base",
            "_model_module_version": "1.2.0",
            "_model_name": "LayoutModel",
            "_view_count": null,
            "_view_module": "@jupyter-widgets/base",
            "_view_module_version": "1.2.0",
            "_view_name": "LayoutView",
            "align_content": null,
            "align_items": null,
            "align_self": null,
            "border": null,
            "bottom": null,
            "display": null,
            "flex": null,
            "flex_flow": null,
            "grid_area": null,
            "grid_auto_columns": null,
            "grid_auto_flow": null,
            "grid_auto_rows": null,
            "grid_column": null,
            "grid_gap": null,
            "grid_row": null,
            "grid_template_areas": null,
            "grid_template_columns": null,
            "grid_template_rows": null,
            "height": null,
            "justify_content": null,
            "justify_items": null,
            "left": null,
            "margin": null,
            "max_height": null,
            "max_width": null,
            "min_height": null,
            "min_width": null,
            "object_fit": null,
            "object_position": null,
            "order": null,
            "overflow": null,
            "overflow_x": null,
            "overflow_y": null,
            "padding": null,
            "right": null,
            "top": null,
            "visibility": null,
            "width": null
          }
        },
        "58abce5478094f15902b1b242b6e52a4": {
          "model_module": "@jupyter-widgets/controls",
          "model_name": "DescriptionStyleModel",
          "model_module_version": "1.5.0",
          "state": {
            "_model_module": "@jupyter-widgets/controls",
            "_model_module_version": "1.5.0",
            "_model_name": "DescriptionStyleModel",
            "_view_count": null,
            "_view_module": "@jupyter-widgets/base",
            "_view_module_version": "1.2.0",
            "_view_name": "StyleView",
            "description_width": ""
          }
        },
        "e887cbfe5707424984f62db560d0b501": {
          "model_module": "@jupyter-widgets/controls",
          "model_name": "HBoxModel",
          "model_module_version": "1.5.0",
          "state": {
            "_dom_classes": [],
            "_model_module": "@jupyter-widgets/controls",
            "_model_module_version": "1.5.0",
            "_model_name": "HBoxModel",
            "_view_count": null,
            "_view_module": "@jupyter-widgets/controls",
            "_view_module_version": "1.5.0",
            "_view_name": "HBoxView",
            "box_style": "",
            "children": [
              "IPY_MODEL_e86295e1ee6d413f9bf0f92130b25025",
              "IPY_MODEL_475f81c7bf8646bb8eedbd0b2a15366d",
              "IPY_MODEL_d71f1fb4bf7943e9b489e92926db41e5"
            ],
            "layout": "IPY_MODEL_61ae3acacff94a5e9052d058926cdb8c"
          }
        },
        "e86295e1ee6d413f9bf0f92130b25025": {
          "model_module": "@jupyter-widgets/controls",
          "model_name": "HTMLModel",
          "model_module_version": "1.5.0",
          "state": {
            "_dom_classes": [],
            "_model_module": "@jupyter-widgets/controls",
            "_model_module_version": "1.5.0",
            "_model_name": "HTMLModel",
            "_view_count": null,
            "_view_module": "@jupyter-widgets/controls",
            "_view_module_version": "1.5.0",
            "_view_name": "HTMLView",
            "description": "",
            "description_tooltip": null,
            "layout": "IPY_MODEL_f287a4a9a4584ae9ae35273bc97dc75a",
            "placeholder": "​",
            "style": "IPY_MODEL_623479a5db74489aafe604d203b7473f",
            "value": ""
          }
        },
        "475f81c7bf8646bb8eedbd0b2a15366d": {
          "model_module": "@jupyter-widgets/controls",
          "model_name": "FloatProgressModel",
          "model_module_version": "1.5.0",
          "state": {
            "_dom_classes": [],
            "_model_module": "@jupyter-widgets/controls",
            "_model_module_version": "1.5.0",
            "_model_name": "FloatProgressModel",
            "_view_count": null,
            "_view_module": "@jupyter-widgets/controls",
            "_view_module_version": "1.5.0",
            "_view_name": "ProgressView",
            "bar_style": "info",
            "description": "",
            "description_tooltip": null,
            "layout": "IPY_MODEL_b770801925594445a2924a2cd37fecd3",
            "max": 1,
            "min": 0,
            "orientation": "horizontal",
            "style": "IPY_MODEL_dd3e3c5006f04e0693fcf1bff61ca049",
            "value": 1
          }
        },
        "d71f1fb4bf7943e9b489e92926db41e5": {
          "model_module": "@jupyter-widgets/controls",
          "model_name": "HTMLModel",
          "model_module_version": "1.5.0",
          "state": {
            "_dom_classes": [],
            "_model_module": "@jupyter-widgets/controls",
            "_model_module_version": "1.5.0",
            "_model_name": "HTMLModel",
            "_view_count": null,
            "_view_module": "@jupyter-widgets/controls",
            "_view_module_version": "1.5.0",
            "_view_name": "HTMLView",
            "description": "",
            "description_tooltip": null,
            "layout": "IPY_MODEL_e917a250328947c09fbcfc841a7504a2",
            "placeholder": "​",
            "style": "IPY_MODEL_1b73649649024c5db5058887e57861b8",
            "value": " 24672/0 [00:07&lt;00:00, 3736.96 examples/s]"
          }
        },
        "61ae3acacff94a5e9052d058926cdb8c": {
          "model_module": "@jupyter-widgets/base",
          "model_name": "LayoutModel",
          "model_module_version": "1.2.0",
          "state": {
            "_model_module": "@jupyter-widgets/base",
            "_model_module_version": "1.2.0",
            "_model_name": "LayoutModel",
            "_view_count": null,
            "_view_module": "@jupyter-widgets/base",
            "_view_module_version": "1.2.0",
            "_view_name": "LayoutView",
            "align_content": null,
            "align_items": null,
            "align_self": null,
            "border": null,
            "bottom": null,
            "display": null,
            "flex": null,
            "flex_flow": null,
            "grid_area": null,
            "grid_auto_columns": null,
            "grid_auto_flow": null,
            "grid_auto_rows": null,
            "grid_column": null,
            "grid_gap": null,
            "grid_row": null,
            "grid_template_areas": null,
            "grid_template_columns": null,
            "grid_template_rows": null,
            "height": null,
            "justify_content": null,
            "justify_items": null,
            "left": null,
            "margin": null,
            "max_height": null,
            "max_width": null,
            "min_height": null,
            "min_width": null,
            "object_fit": null,
            "object_position": null,
            "order": null,
            "overflow": null,
            "overflow_x": null,
            "overflow_y": null,
            "padding": null,
            "right": null,
            "top": null,
            "visibility": null,
            "width": null
          }
        },
        "f287a4a9a4584ae9ae35273bc97dc75a": {
          "model_module": "@jupyter-widgets/base",
          "model_name": "LayoutModel",
          "model_module_version": "1.2.0",
          "state": {
            "_model_module": "@jupyter-widgets/base",
            "_model_module_version": "1.2.0",
            "_model_name": "LayoutModel",
            "_view_count": null,
            "_view_module": "@jupyter-widgets/base",
            "_view_module_version": "1.2.0",
            "_view_name": "LayoutView",
            "align_content": null,
            "align_items": null,
            "align_self": null,
            "border": null,
            "bottom": null,
            "display": null,
            "flex": null,
            "flex_flow": null,
            "grid_area": null,
            "grid_auto_columns": null,
            "grid_auto_flow": null,
            "grid_auto_rows": null,
            "grid_column": null,
            "grid_gap": null,
            "grid_row": null,
            "grid_template_areas": null,
            "grid_template_columns": null,
            "grid_template_rows": null,
            "height": null,
            "justify_content": null,
            "justify_items": null,
            "left": null,
            "margin": null,
            "max_height": null,
            "max_width": null,
            "min_height": null,
            "min_width": null,
            "object_fit": null,
            "object_position": null,
            "order": null,
            "overflow": null,
            "overflow_x": null,
            "overflow_y": null,
            "padding": null,
            "right": null,
            "top": null,
            "visibility": null,
            "width": null
          }
        },
        "623479a5db74489aafe604d203b7473f": {
          "model_module": "@jupyter-widgets/controls",
          "model_name": "DescriptionStyleModel",
          "model_module_version": "1.5.0",
          "state": {
            "_model_module": "@jupyter-widgets/controls",
            "_model_module_version": "1.5.0",
            "_model_name": "DescriptionStyleModel",
            "_view_count": null,
            "_view_module": "@jupyter-widgets/base",
            "_view_module_version": "1.2.0",
            "_view_name": "StyleView",
            "description_width": ""
          }
        },
        "b770801925594445a2924a2cd37fecd3": {
          "model_module": "@jupyter-widgets/base",
          "model_name": "LayoutModel",
          "model_module_version": "1.2.0",
          "state": {
            "_model_module": "@jupyter-widgets/base",
            "_model_module_version": "1.2.0",
            "_model_name": "LayoutModel",
            "_view_count": null,
            "_view_module": "@jupyter-widgets/base",
            "_view_module_version": "1.2.0",
            "_view_name": "LayoutView",
            "align_content": null,
            "align_items": null,
            "align_self": null,
            "border": null,
            "bottom": null,
            "display": null,
            "flex": null,
            "flex_flow": null,
            "grid_area": null,
            "grid_auto_columns": null,
            "grid_auto_flow": null,
            "grid_auto_rows": null,
            "grid_column": null,
            "grid_gap": null,
            "grid_row": null,
            "grid_template_areas": null,
            "grid_template_columns": null,
            "grid_template_rows": null,
            "height": null,
            "justify_content": null,
            "justify_items": null,
            "left": null,
            "margin": null,
            "max_height": null,
            "max_width": null,
            "min_height": null,
            "min_width": null,
            "object_fit": null,
            "object_position": null,
            "order": null,
            "overflow": null,
            "overflow_x": null,
            "overflow_y": null,
            "padding": null,
            "right": null,
            "top": null,
            "visibility": null,
            "width": "20px"
          }
        },
        "dd3e3c5006f04e0693fcf1bff61ca049": {
          "model_module": "@jupyter-widgets/controls",
          "model_name": "ProgressStyleModel",
          "model_module_version": "1.5.0",
          "state": {
            "_model_module": "@jupyter-widgets/controls",
            "_model_module_version": "1.5.0",
            "_model_name": "ProgressStyleModel",
            "_view_count": null,
            "_view_module": "@jupyter-widgets/base",
            "_view_module_version": "1.2.0",
            "_view_name": "StyleView",
            "bar_color": null,
            "description_width": ""
          }
        },
        "e917a250328947c09fbcfc841a7504a2": {
          "model_module": "@jupyter-widgets/base",
          "model_name": "LayoutModel",
          "model_module_version": "1.2.0",
          "state": {
            "_model_module": "@jupyter-widgets/base",
            "_model_module_version": "1.2.0",
            "_model_name": "LayoutModel",
            "_view_count": null,
            "_view_module": "@jupyter-widgets/base",
            "_view_module_version": "1.2.0",
            "_view_name": "LayoutView",
            "align_content": null,
            "align_items": null,
            "align_self": null,
            "border": null,
            "bottom": null,
            "display": null,
            "flex": null,
            "flex_flow": null,
            "grid_area": null,
            "grid_auto_columns": null,
            "grid_auto_flow": null,
            "grid_auto_rows": null,
            "grid_column": null,
            "grid_gap": null,
            "grid_row": null,
            "grid_template_areas": null,
            "grid_template_columns": null,
            "grid_template_rows": null,
            "height": null,
            "justify_content": null,
            "justify_items": null,
            "left": null,
            "margin": null,
            "max_height": null,
            "max_width": null,
            "min_height": null,
            "min_width": null,
            "object_fit": null,
            "object_position": null,
            "order": null,
            "overflow": null,
            "overflow_x": null,
            "overflow_y": null,
            "padding": null,
            "right": null,
            "top": null,
            "visibility": null,
            "width": null
          }
        },
        "1b73649649024c5db5058887e57861b8": {
          "model_module": "@jupyter-widgets/controls",
          "model_name": "DescriptionStyleModel",
          "model_module_version": "1.5.0",
          "state": {
            "_model_module": "@jupyter-widgets/controls",
            "_model_module_version": "1.5.0",
            "_model_name": "DescriptionStyleModel",
            "_view_count": null,
            "_view_module": "@jupyter-widgets/base",
            "_view_module_version": "1.2.0",
            "_view_name": "StyleView",
            "description_width": ""
          }
        },
        "cee7e64331674340ae94d62f42e5babf": {
          "model_module": "@jupyter-widgets/controls",
          "model_name": "HBoxModel",
          "model_module_version": "1.5.0",
          "state": {
            "_dom_classes": [],
            "_model_module": "@jupyter-widgets/controls",
            "_model_module_version": "1.5.0",
            "_model_name": "HBoxModel",
            "_view_count": null,
            "_view_module": "@jupyter-widgets/controls",
            "_view_module_version": "1.5.0",
            "_view_name": "HBoxView",
            "box_style": "",
            "children": [
              "IPY_MODEL_1ca71ae495e64e77bcffd2f1079f8096",
              "IPY_MODEL_13936c1a88ca4b06a0d33847db630d6f",
              "IPY_MODEL_1204c69a268f4f32b29dd1b3e7c83277"
            ],
            "layout": "IPY_MODEL_df54960912154f209aa6d0cfc3cbca2b"
          }
        },
        "1ca71ae495e64e77bcffd2f1079f8096": {
          "model_module": "@jupyter-widgets/controls",
          "model_name": "HTMLModel",
          "model_module_version": "1.5.0",
          "state": {
            "_dom_classes": [],
            "_model_module": "@jupyter-widgets/controls",
            "_model_module_version": "1.5.0",
            "_model_name": "HTMLModel",
            "_view_count": null,
            "_view_module": "@jupyter-widgets/controls",
            "_view_module_version": "1.5.0",
            "_view_name": "HTMLView",
            "description": "",
            "description_tooltip": null,
            "layout": "IPY_MODEL_c11d647e7e7f4d7abc085de5c065e3df",
            "placeholder": "​",
            "style": "IPY_MODEL_26cde81d88bc4274a3db04868f4c3259",
            "value": "100%"
          }
        },
        "13936c1a88ca4b06a0d33847db630d6f": {
          "model_module": "@jupyter-widgets/controls",
          "model_name": "FloatProgressModel",
          "model_module_version": "1.5.0",
          "state": {
            "_dom_classes": [],
            "_model_module": "@jupyter-widgets/controls",
            "_model_module_version": "1.5.0",
            "_model_name": "FloatProgressModel",
            "_view_count": null,
            "_view_module": "@jupyter-widgets/controls",
            "_view_module_version": "1.5.0",
            "_view_name": "ProgressView",
            "bar_style": "danger",
            "description": "",
            "description_tooltip": null,
            "layout": "IPY_MODEL_f6f8989458f742d6968719752fe328e6",
            "max": 25000,
            "min": 0,
            "orientation": "horizontal",
            "style": "IPY_MODEL_2cc5dafd6e86445fbfc82f27bce75a77",
            "value": 24999
          }
        },
        "1204c69a268f4f32b29dd1b3e7c83277": {
          "model_module": "@jupyter-widgets/controls",
          "model_name": "HTMLModel",
          "model_module_version": "1.5.0",
          "state": {
            "_dom_classes": [],
            "_model_module": "@jupyter-widgets/controls",
            "_model_module_version": "1.5.0",
            "_model_name": "HTMLModel",
            "_view_count": null,
            "_view_module": "@jupyter-widgets/controls",
            "_view_module_version": "1.5.0",
            "_view_name": "HTMLView",
            "description": "",
            "description_tooltip": null,
            "layout": "IPY_MODEL_eab405e319e34efbaf6495810bf00e1d",
            "placeholder": "​",
            "style": "IPY_MODEL_5b92568bd8ed4dffa17c3399085426be",
            "value": " 24999/25000 [00:00&lt;00:00, 94861.50 examples/s]"
          }
        },
        "df54960912154f209aa6d0cfc3cbca2b": {
          "model_module": "@jupyter-widgets/base",
          "model_name": "LayoutModel",
          "model_module_version": "1.2.0",
          "state": {
            "_model_module": "@jupyter-widgets/base",
            "_model_module_version": "1.2.0",
            "_model_name": "LayoutModel",
            "_view_count": null,
            "_view_module": "@jupyter-widgets/base",
            "_view_module_version": "1.2.0",
            "_view_name": "LayoutView",
            "align_content": null,
            "align_items": null,
            "align_self": null,
            "border": null,
            "bottom": null,
            "display": null,
            "flex": null,
            "flex_flow": null,
            "grid_area": null,
            "grid_auto_columns": null,
            "grid_auto_flow": null,
            "grid_auto_rows": null,
            "grid_column": null,
            "grid_gap": null,
            "grid_row": null,
            "grid_template_areas": null,
            "grid_template_columns": null,
            "grid_template_rows": null,
            "height": null,
            "justify_content": null,
            "justify_items": null,
            "left": null,
            "margin": null,
            "max_height": null,
            "max_width": null,
            "min_height": null,
            "min_width": null,
            "object_fit": null,
            "object_position": null,
            "order": null,
            "overflow": null,
            "overflow_x": null,
            "overflow_y": null,
            "padding": null,
            "right": null,
            "top": null,
            "visibility": null,
            "width": null
          }
        },
        "c11d647e7e7f4d7abc085de5c065e3df": {
          "model_module": "@jupyter-widgets/base",
          "model_name": "LayoutModel",
          "model_module_version": "1.2.0",
          "state": {
            "_model_module": "@jupyter-widgets/base",
            "_model_module_version": "1.2.0",
            "_model_name": "LayoutModel",
            "_view_count": null,
            "_view_module": "@jupyter-widgets/base",
            "_view_module_version": "1.2.0",
            "_view_name": "LayoutView",
            "align_content": null,
            "align_items": null,
            "align_self": null,
            "border": null,
            "bottom": null,
            "display": null,
            "flex": null,
            "flex_flow": null,
            "grid_area": null,
            "grid_auto_columns": null,
            "grid_auto_flow": null,
            "grid_auto_rows": null,
            "grid_column": null,
            "grid_gap": null,
            "grid_row": null,
            "grid_template_areas": null,
            "grid_template_columns": null,
            "grid_template_rows": null,
            "height": null,
            "justify_content": null,
            "justify_items": null,
            "left": null,
            "margin": null,
            "max_height": null,
            "max_width": null,
            "min_height": null,
            "min_width": null,
            "object_fit": null,
            "object_position": null,
            "order": null,
            "overflow": null,
            "overflow_x": null,
            "overflow_y": null,
            "padding": null,
            "right": null,
            "top": null,
            "visibility": null,
            "width": null
          }
        },
        "26cde81d88bc4274a3db04868f4c3259": {
          "model_module": "@jupyter-widgets/controls",
          "model_name": "DescriptionStyleModel",
          "model_module_version": "1.5.0",
          "state": {
            "_model_module": "@jupyter-widgets/controls",
            "_model_module_version": "1.5.0",
            "_model_name": "DescriptionStyleModel",
            "_view_count": null,
            "_view_module": "@jupyter-widgets/base",
            "_view_module_version": "1.2.0",
            "_view_name": "StyleView",
            "description_width": ""
          }
        },
        "f6f8989458f742d6968719752fe328e6": {
          "model_module": "@jupyter-widgets/base",
          "model_name": "LayoutModel",
          "model_module_version": "1.2.0",
          "state": {
            "_model_module": "@jupyter-widgets/base",
            "_model_module_version": "1.2.0",
            "_model_name": "LayoutModel",
            "_view_count": null,
            "_view_module": "@jupyter-widgets/base",
            "_view_module_version": "1.2.0",
            "_view_name": "LayoutView",
            "align_content": null,
            "align_items": null,
            "align_self": null,
            "border": null,
            "bottom": null,
            "display": null,
            "flex": null,
            "flex_flow": null,
            "grid_area": null,
            "grid_auto_columns": null,
            "grid_auto_flow": null,
            "grid_auto_rows": null,
            "grid_column": null,
            "grid_gap": null,
            "grid_row": null,
            "grid_template_areas": null,
            "grid_template_columns": null,
            "grid_template_rows": null,
            "height": null,
            "justify_content": null,
            "justify_items": null,
            "left": null,
            "margin": null,
            "max_height": null,
            "max_width": null,
            "min_height": null,
            "min_width": null,
            "object_fit": null,
            "object_position": null,
            "order": null,
            "overflow": null,
            "overflow_x": null,
            "overflow_y": null,
            "padding": null,
            "right": null,
            "top": null,
            "visibility": null,
            "width": null
          }
        },
        "2cc5dafd6e86445fbfc82f27bce75a77": {
          "model_module": "@jupyter-widgets/controls",
          "model_name": "ProgressStyleModel",
          "model_module_version": "1.5.0",
          "state": {
            "_model_module": "@jupyter-widgets/controls",
            "_model_module_version": "1.5.0",
            "_model_name": "ProgressStyleModel",
            "_view_count": null,
            "_view_module": "@jupyter-widgets/base",
            "_view_module_version": "1.2.0",
            "_view_name": "StyleView",
            "bar_color": null,
            "description_width": ""
          }
        },
        "eab405e319e34efbaf6495810bf00e1d": {
          "model_module": "@jupyter-widgets/base",
          "model_name": "LayoutModel",
          "model_module_version": "1.2.0",
          "state": {
            "_model_module": "@jupyter-widgets/base",
            "_model_module_version": "1.2.0",
            "_model_name": "LayoutModel",
            "_view_count": null,
            "_view_module": "@jupyter-widgets/base",
            "_view_module_version": "1.2.0",
            "_view_name": "LayoutView",
            "align_content": null,
            "align_items": null,
            "align_self": null,
            "border": null,
            "bottom": null,
            "display": null,
            "flex": null,
            "flex_flow": null,
            "grid_area": null,
            "grid_auto_columns": null,
            "grid_auto_flow": null,
            "grid_auto_rows": null,
            "grid_column": null,
            "grid_gap": null,
            "grid_row": null,
            "grid_template_areas": null,
            "grid_template_columns": null,
            "grid_template_rows": null,
            "height": null,
            "justify_content": null,
            "justify_items": null,
            "left": null,
            "margin": null,
            "max_height": null,
            "max_width": null,
            "min_height": null,
            "min_width": null,
            "object_fit": null,
            "object_position": null,
            "order": null,
            "overflow": null,
            "overflow_x": null,
            "overflow_y": null,
            "padding": null,
            "right": null,
            "top": null,
            "visibility": null,
            "width": null
          }
        },
        "5b92568bd8ed4dffa17c3399085426be": {
          "model_module": "@jupyter-widgets/controls",
          "model_name": "DescriptionStyleModel",
          "model_module_version": "1.5.0",
          "state": {
            "_model_module": "@jupyter-widgets/controls",
            "_model_module_version": "1.5.0",
            "_model_name": "DescriptionStyleModel",
            "_view_count": null,
            "_view_module": "@jupyter-widgets/base",
            "_view_module_version": "1.2.0",
            "_view_name": "StyleView",
            "description_width": ""
          }
        },
        "d89772e1bc0e4bf791e996339737db3a": {
          "model_module": "@jupyter-widgets/controls",
          "model_name": "HBoxModel",
          "model_module_version": "1.5.0",
          "state": {
            "_dom_classes": [],
            "_model_module": "@jupyter-widgets/controls",
            "_model_module_version": "1.5.0",
            "_model_name": "HBoxModel",
            "_view_count": null,
            "_view_module": "@jupyter-widgets/controls",
            "_view_module_version": "1.5.0",
            "_view_name": "HBoxView",
            "box_style": "",
            "children": [
              "IPY_MODEL_ec20b2d23bd247e786f8764f14c6b548",
              "IPY_MODEL_05a444a83a0f44b7964e5e72aac91ac2",
              "IPY_MODEL_f515b72a839b4475bb96c37e6eb2d30a"
            ],
            "layout": "IPY_MODEL_86d033766a9b4995b8e74ecc814488f2"
          }
        },
        "ec20b2d23bd247e786f8764f14c6b548": {
          "model_module": "@jupyter-widgets/controls",
          "model_name": "HTMLModel",
          "model_module_version": "1.5.0",
          "state": {
            "_dom_classes": [],
            "_model_module": "@jupyter-widgets/controls",
            "_model_module_version": "1.5.0",
            "_model_name": "HTMLModel",
            "_view_count": null,
            "_view_module": "@jupyter-widgets/controls",
            "_view_module_version": "1.5.0",
            "_view_name": "HTMLView",
            "description": "",
            "description_tooltip": null,
            "layout": "IPY_MODEL_ca8541255b914e02930ac136c3651521",
            "placeholder": "​",
            "style": "IPY_MODEL_da9e5fc7213d4f96997ce90a84f91bfa",
            "value": ""
          }
        },
        "05a444a83a0f44b7964e5e72aac91ac2": {
          "model_module": "@jupyter-widgets/controls",
          "model_name": "FloatProgressModel",
          "model_module_version": "1.5.0",
          "state": {
            "_dom_classes": [],
            "_model_module": "@jupyter-widgets/controls",
            "_model_module_version": "1.5.0",
            "_model_name": "FloatProgressModel",
            "_view_count": null,
            "_view_module": "@jupyter-widgets/controls",
            "_view_module_version": "1.5.0",
            "_view_name": "ProgressView",
            "bar_style": "info",
            "description": "",
            "description_tooltip": null,
            "layout": "IPY_MODEL_51fd4d54779b433081c22bf5699a8154",
            "max": 1,
            "min": 0,
            "orientation": "horizontal",
            "style": "IPY_MODEL_1502bdd2a34e43a4bf241fe2eaded4e8",
            "value": 1
          }
        },
        "f515b72a839b4475bb96c37e6eb2d30a": {
          "model_module": "@jupyter-widgets/controls",
          "model_name": "HTMLModel",
          "model_module_version": "1.5.0",
          "state": {
            "_dom_classes": [],
            "_model_module": "@jupyter-widgets/controls",
            "_model_module_version": "1.5.0",
            "_model_name": "HTMLModel",
            "_view_count": null,
            "_view_module": "@jupyter-widgets/controls",
            "_view_module_version": "1.5.0",
            "_view_name": "HTMLView",
            "description": "",
            "description_tooltip": null,
            "layout": "IPY_MODEL_25e223758c5f4e59895cbbcf412c1fc6",
            "placeholder": "​",
            "style": "IPY_MODEL_de9785bbb19b48379096147d6a0203e8",
            "value": " 49945/0 [00:17&lt;00:00, 3591.72 examples/s]"
          }
        },
        "86d033766a9b4995b8e74ecc814488f2": {
          "model_module": "@jupyter-widgets/base",
          "model_name": "LayoutModel",
          "model_module_version": "1.2.0",
          "state": {
            "_model_module": "@jupyter-widgets/base",
            "_model_module_version": "1.2.0",
            "_model_name": "LayoutModel",
            "_view_count": null,
            "_view_module": "@jupyter-widgets/base",
            "_view_module_version": "1.2.0",
            "_view_name": "LayoutView",
            "align_content": null,
            "align_items": null,
            "align_self": null,
            "border": null,
            "bottom": null,
            "display": null,
            "flex": null,
            "flex_flow": null,
            "grid_area": null,
            "grid_auto_columns": null,
            "grid_auto_flow": null,
            "grid_auto_rows": null,
            "grid_column": null,
            "grid_gap": null,
            "grid_row": null,
            "grid_template_areas": null,
            "grid_template_columns": null,
            "grid_template_rows": null,
            "height": null,
            "justify_content": null,
            "justify_items": null,
            "left": null,
            "margin": null,
            "max_height": null,
            "max_width": null,
            "min_height": null,
            "min_width": null,
            "object_fit": null,
            "object_position": null,
            "order": null,
            "overflow": null,
            "overflow_x": null,
            "overflow_y": null,
            "padding": null,
            "right": null,
            "top": null,
            "visibility": null,
            "width": null
          }
        },
        "ca8541255b914e02930ac136c3651521": {
          "model_module": "@jupyter-widgets/base",
          "model_name": "LayoutModel",
          "model_module_version": "1.2.0",
          "state": {
            "_model_module": "@jupyter-widgets/base",
            "_model_module_version": "1.2.0",
            "_model_name": "LayoutModel",
            "_view_count": null,
            "_view_module": "@jupyter-widgets/base",
            "_view_module_version": "1.2.0",
            "_view_name": "LayoutView",
            "align_content": null,
            "align_items": null,
            "align_self": null,
            "border": null,
            "bottom": null,
            "display": null,
            "flex": null,
            "flex_flow": null,
            "grid_area": null,
            "grid_auto_columns": null,
            "grid_auto_flow": null,
            "grid_auto_rows": null,
            "grid_column": null,
            "grid_gap": null,
            "grid_row": null,
            "grid_template_areas": null,
            "grid_template_columns": null,
            "grid_template_rows": null,
            "height": null,
            "justify_content": null,
            "justify_items": null,
            "left": null,
            "margin": null,
            "max_height": null,
            "max_width": null,
            "min_height": null,
            "min_width": null,
            "object_fit": null,
            "object_position": null,
            "order": null,
            "overflow": null,
            "overflow_x": null,
            "overflow_y": null,
            "padding": null,
            "right": null,
            "top": null,
            "visibility": null,
            "width": null
          }
        },
        "da9e5fc7213d4f96997ce90a84f91bfa": {
          "model_module": "@jupyter-widgets/controls",
          "model_name": "DescriptionStyleModel",
          "model_module_version": "1.5.0",
          "state": {
            "_model_module": "@jupyter-widgets/controls",
            "_model_module_version": "1.5.0",
            "_model_name": "DescriptionStyleModel",
            "_view_count": null,
            "_view_module": "@jupyter-widgets/base",
            "_view_module_version": "1.2.0",
            "_view_name": "StyleView",
            "description_width": ""
          }
        },
        "51fd4d54779b433081c22bf5699a8154": {
          "model_module": "@jupyter-widgets/base",
          "model_name": "LayoutModel",
          "model_module_version": "1.2.0",
          "state": {
            "_model_module": "@jupyter-widgets/base",
            "_model_module_version": "1.2.0",
            "_model_name": "LayoutModel",
            "_view_count": null,
            "_view_module": "@jupyter-widgets/base",
            "_view_module_version": "1.2.0",
            "_view_name": "LayoutView",
            "align_content": null,
            "align_items": null,
            "align_self": null,
            "border": null,
            "bottom": null,
            "display": null,
            "flex": null,
            "flex_flow": null,
            "grid_area": null,
            "grid_auto_columns": null,
            "grid_auto_flow": null,
            "grid_auto_rows": null,
            "grid_column": null,
            "grid_gap": null,
            "grid_row": null,
            "grid_template_areas": null,
            "grid_template_columns": null,
            "grid_template_rows": null,
            "height": null,
            "justify_content": null,
            "justify_items": null,
            "left": null,
            "margin": null,
            "max_height": null,
            "max_width": null,
            "min_height": null,
            "min_width": null,
            "object_fit": null,
            "object_position": null,
            "order": null,
            "overflow": null,
            "overflow_x": null,
            "overflow_y": null,
            "padding": null,
            "right": null,
            "top": null,
            "visibility": null,
            "width": "20px"
          }
        },
        "1502bdd2a34e43a4bf241fe2eaded4e8": {
          "model_module": "@jupyter-widgets/controls",
          "model_name": "ProgressStyleModel",
          "model_module_version": "1.5.0",
          "state": {
            "_model_module": "@jupyter-widgets/controls",
            "_model_module_version": "1.5.0",
            "_model_name": "ProgressStyleModel",
            "_view_count": null,
            "_view_module": "@jupyter-widgets/base",
            "_view_module_version": "1.2.0",
            "_view_name": "StyleView",
            "bar_color": null,
            "description_width": ""
          }
        },
        "25e223758c5f4e59895cbbcf412c1fc6": {
          "model_module": "@jupyter-widgets/base",
          "model_name": "LayoutModel",
          "model_module_version": "1.2.0",
          "state": {
            "_model_module": "@jupyter-widgets/base",
            "_model_module_version": "1.2.0",
            "_model_name": "LayoutModel",
            "_view_count": null,
            "_view_module": "@jupyter-widgets/base",
            "_view_module_version": "1.2.0",
            "_view_name": "LayoutView",
            "align_content": null,
            "align_items": null,
            "align_self": null,
            "border": null,
            "bottom": null,
            "display": null,
            "flex": null,
            "flex_flow": null,
            "grid_area": null,
            "grid_auto_columns": null,
            "grid_auto_flow": null,
            "grid_auto_rows": null,
            "grid_column": null,
            "grid_gap": null,
            "grid_row": null,
            "grid_template_areas": null,
            "grid_template_columns": null,
            "grid_template_rows": null,
            "height": null,
            "justify_content": null,
            "justify_items": null,
            "left": null,
            "margin": null,
            "max_height": null,
            "max_width": null,
            "min_height": null,
            "min_width": null,
            "object_fit": null,
            "object_position": null,
            "order": null,
            "overflow": null,
            "overflow_x": null,
            "overflow_y": null,
            "padding": null,
            "right": null,
            "top": null,
            "visibility": null,
            "width": null
          }
        },
        "de9785bbb19b48379096147d6a0203e8": {
          "model_module": "@jupyter-widgets/controls",
          "model_name": "DescriptionStyleModel",
          "model_module_version": "1.5.0",
          "state": {
            "_model_module": "@jupyter-widgets/controls",
            "_model_module_version": "1.5.0",
            "_model_name": "DescriptionStyleModel",
            "_view_count": null,
            "_view_module": "@jupyter-widgets/base",
            "_view_module_version": "1.2.0",
            "_view_name": "StyleView",
            "description_width": ""
          }
        },
        "6967b034ce344c77897b1d0116b0d1e8": {
          "model_module": "@jupyter-widgets/controls",
          "model_name": "HBoxModel",
          "model_module_version": "1.5.0",
          "state": {
            "_dom_classes": [],
            "_model_module": "@jupyter-widgets/controls",
            "_model_module_version": "1.5.0",
            "_model_name": "HBoxModel",
            "_view_count": null,
            "_view_module": "@jupyter-widgets/controls",
            "_view_module_version": "1.5.0",
            "_view_name": "HBoxView",
            "box_style": "",
            "children": [
              "IPY_MODEL_4d13befc0a334f12ba289a075607650d",
              "IPY_MODEL_fcfed6041ef041cca1bd1566706eece6",
              "IPY_MODEL_a49a2fbf4321413ca91825228893fda2"
            ],
            "layout": "IPY_MODEL_0265f82e48d74922ba68adaa057e7baa"
          }
        },
        "4d13befc0a334f12ba289a075607650d": {
          "model_module": "@jupyter-widgets/controls",
          "model_name": "HTMLModel",
          "model_module_version": "1.5.0",
          "state": {
            "_dom_classes": [],
            "_model_module": "@jupyter-widgets/controls",
            "_model_module_version": "1.5.0",
            "_model_name": "HTMLModel",
            "_view_count": null,
            "_view_module": "@jupyter-widgets/controls",
            "_view_module_version": "1.5.0",
            "_view_name": "HTMLView",
            "description": "",
            "description_tooltip": null,
            "layout": "IPY_MODEL_31343b3a3b4848b6945b7eae6440c9e2",
            "placeholder": "​",
            "style": "IPY_MODEL_09434e62334d4d2da951028d6d549c8d",
            "value": "100%"
          }
        },
        "fcfed6041ef041cca1bd1566706eece6": {
          "model_module": "@jupyter-widgets/controls",
          "model_name": "FloatProgressModel",
          "model_module_version": "1.5.0",
          "state": {
            "_dom_classes": [],
            "_model_module": "@jupyter-widgets/controls",
            "_model_module_version": "1.5.0",
            "_model_name": "FloatProgressModel",
            "_view_count": null,
            "_view_module": "@jupyter-widgets/controls",
            "_view_module_version": "1.5.0",
            "_view_name": "ProgressView",
            "bar_style": "danger",
            "description": "",
            "description_tooltip": null,
            "layout": "IPY_MODEL_3c81509572d049c0a17e4650c8a64dc3",
            "max": 50000,
            "min": 0,
            "orientation": "horizontal",
            "style": "IPY_MODEL_1431b634d2184e878822134433dcd80c",
            "value": 49999
          }
        },
        "a49a2fbf4321413ca91825228893fda2": {
          "model_module": "@jupyter-widgets/controls",
          "model_name": "HTMLModel",
          "model_module_version": "1.5.0",
          "state": {
            "_dom_classes": [],
            "_model_module": "@jupyter-widgets/controls",
            "_model_module_version": "1.5.0",
            "_model_name": "HTMLModel",
            "_view_count": null,
            "_view_module": "@jupyter-widgets/controls",
            "_view_module_version": "1.5.0",
            "_view_name": "HTMLView",
            "description": "",
            "description_tooltip": null,
            "layout": "IPY_MODEL_5fe27b86377d455ab25316a54b9e04b2",
            "placeholder": "​",
            "style": "IPY_MODEL_305f91e8ae5f49a8a97a157ee879a1b5",
            "value": " 49999/50000 [00:00&lt;00:00, 159360.17 examples/s]"
          }
        },
        "0265f82e48d74922ba68adaa057e7baa": {
          "model_module": "@jupyter-widgets/base",
          "model_name": "LayoutModel",
          "model_module_version": "1.2.0",
          "state": {
            "_model_module": "@jupyter-widgets/base",
            "_model_module_version": "1.2.0",
            "_model_name": "LayoutModel",
            "_view_count": null,
            "_view_module": "@jupyter-widgets/base",
            "_view_module_version": "1.2.0",
            "_view_name": "LayoutView",
            "align_content": null,
            "align_items": null,
            "align_self": null,
            "border": null,
            "bottom": null,
            "display": null,
            "flex": null,
            "flex_flow": null,
            "grid_area": null,
            "grid_auto_columns": null,
            "grid_auto_flow": null,
            "grid_auto_rows": null,
            "grid_column": null,
            "grid_gap": null,
            "grid_row": null,
            "grid_template_areas": null,
            "grid_template_columns": null,
            "grid_template_rows": null,
            "height": null,
            "justify_content": null,
            "justify_items": null,
            "left": null,
            "margin": null,
            "max_height": null,
            "max_width": null,
            "min_height": null,
            "min_width": null,
            "object_fit": null,
            "object_position": null,
            "order": null,
            "overflow": null,
            "overflow_x": null,
            "overflow_y": null,
            "padding": null,
            "right": null,
            "top": null,
            "visibility": null,
            "width": null
          }
        },
        "31343b3a3b4848b6945b7eae6440c9e2": {
          "model_module": "@jupyter-widgets/base",
          "model_name": "LayoutModel",
          "model_module_version": "1.2.0",
          "state": {
            "_model_module": "@jupyter-widgets/base",
            "_model_module_version": "1.2.0",
            "_model_name": "LayoutModel",
            "_view_count": null,
            "_view_module": "@jupyter-widgets/base",
            "_view_module_version": "1.2.0",
            "_view_name": "LayoutView",
            "align_content": null,
            "align_items": null,
            "align_self": null,
            "border": null,
            "bottom": null,
            "display": null,
            "flex": null,
            "flex_flow": null,
            "grid_area": null,
            "grid_auto_columns": null,
            "grid_auto_flow": null,
            "grid_auto_rows": null,
            "grid_column": null,
            "grid_gap": null,
            "grid_row": null,
            "grid_template_areas": null,
            "grid_template_columns": null,
            "grid_template_rows": null,
            "height": null,
            "justify_content": null,
            "justify_items": null,
            "left": null,
            "margin": null,
            "max_height": null,
            "max_width": null,
            "min_height": null,
            "min_width": null,
            "object_fit": null,
            "object_position": null,
            "order": null,
            "overflow": null,
            "overflow_x": null,
            "overflow_y": null,
            "padding": null,
            "right": null,
            "top": null,
            "visibility": null,
            "width": null
          }
        },
        "09434e62334d4d2da951028d6d549c8d": {
          "model_module": "@jupyter-widgets/controls",
          "model_name": "DescriptionStyleModel",
          "model_module_version": "1.5.0",
          "state": {
            "_model_module": "@jupyter-widgets/controls",
            "_model_module_version": "1.5.0",
            "_model_name": "DescriptionStyleModel",
            "_view_count": null,
            "_view_module": "@jupyter-widgets/base",
            "_view_module_version": "1.2.0",
            "_view_name": "StyleView",
            "description_width": ""
          }
        },
        "3c81509572d049c0a17e4650c8a64dc3": {
          "model_module": "@jupyter-widgets/base",
          "model_name": "LayoutModel",
          "model_module_version": "1.2.0",
          "state": {
            "_model_module": "@jupyter-widgets/base",
            "_model_module_version": "1.2.0",
            "_model_name": "LayoutModel",
            "_view_count": null,
            "_view_module": "@jupyter-widgets/base",
            "_view_module_version": "1.2.0",
            "_view_name": "LayoutView",
            "align_content": null,
            "align_items": null,
            "align_self": null,
            "border": null,
            "bottom": null,
            "display": null,
            "flex": null,
            "flex_flow": null,
            "grid_area": null,
            "grid_auto_columns": null,
            "grid_auto_flow": null,
            "grid_auto_rows": null,
            "grid_column": null,
            "grid_gap": null,
            "grid_row": null,
            "grid_template_areas": null,
            "grid_template_columns": null,
            "grid_template_rows": null,
            "height": null,
            "justify_content": null,
            "justify_items": null,
            "left": null,
            "margin": null,
            "max_height": null,
            "max_width": null,
            "min_height": null,
            "min_width": null,
            "object_fit": null,
            "object_position": null,
            "order": null,
            "overflow": null,
            "overflow_x": null,
            "overflow_y": null,
            "padding": null,
            "right": null,
            "top": null,
            "visibility": null,
            "width": null
          }
        },
        "1431b634d2184e878822134433dcd80c": {
          "model_module": "@jupyter-widgets/controls",
          "model_name": "ProgressStyleModel",
          "model_module_version": "1.5.0",
          "state": {
            "_model_module": "@jupyter-widgets/controls",
            "_model_module_version": "1.5.0",
            "_model_name": "ProgressStyleModel",
            "_view_count": null,
            "_view_module": "@jupyter-widgets/base",
            "_view_module_version": "1.2.0",
            "_view_name": "StyleView",
            "bar_color": null,
            "description_width": ""
          }
        },
        "5fe27b86377d455ab25316a54b9e04b2": {
          "model_module": "@jupyter-widgets/base",
          "model_name": "LayoutModel",
          "model_module_version": "1.2.0",
          "state": {
            "_model_module": "@jupyter-widgets/base",
            "_model_module_version": "1.2.0",
            "_model_name": "LayoutModel",
            "_view_count": null,
            "_view_module": "@jupyter-widgets/base",
            "_view_module_version": "1.2.0",
            "_view_name": "LayoutView",
            "align_content": null,
            "align_items": null,
            "align_self": null,
            "border": null,
            "bottom": null,
            "display": null,
            "flex": null,
            "flex_flow": null,
            "grid_area": null,
            "grid_auto_columns": null,
            "grid_auto_flow": null,
            "grid_auto_rows": null,
            "grid_column": null,
            "grid_gap": null,
            "grid_row": null,
            "grid_template_areas": null,
            "grid_template_columns": null,
            "grid_template_rows": null,
            "height": null,
            "justify_content": null,
            "justify_items": null,
            "left": null,
            "margin": null,
            "max_height": null,
            "max_width": null,
            "min_height": null,
            "min_width": null,
            "object_fit": null,
            "object_position": null,
            "order": null,
            "overflow": null,
            "overflow_x": null,
            "overflow_y": null,
            "padding": null,
            "right": null,
            "top": null,
            "visibility": null,
            "width": null
          }
        },
        "305f91e8ae5f49a8a97a157ee879a1b5": {
          "model_module": "@jupyter-widgets/controls",
          "model_name": "DescriptionStyleModel",
          "model_module_version": "1.5.0",
          "state": {
            "_model_module": "@jupyter-widgets/controls",
            "_model_module_version": "1.5.0",
            "_model_name": "DescriptionStyleModel",
            "_view_count": null,
            "_view_module": "@jupyter-widgets/base",
            "_view_module_version": "1.2.0",
            "_view_name": "StyleView",
            "description_width": ""
          }
        }
      }
    }
  },
  "cells": [
    {
      "cell_type": "markdown",
      "metadata": {
        "id": "view-in-github",
        "colab_type": "text"
      },
      "source": [
        "<a href=\"https://colab.research.google.com/github/NeetishPathak/biz_machine_learning/blob/main/Deep_Learning/Classifier/Movie_Classifier.ipynb\" target=\"_parent\"><img src=\"https://colab.research.google.com/assets/colab-badge.svg\" alt=\"Open In Colab\"/></a>"
      ]
    },
    {
      "cell_type": "markdown",
      "source": [
        "## Movie Classifier\n",
        "\n",
        "This notebook is classifies the movie reviews as positive or negative.\n",
        "It is a binary classifier\n",
        "\n",
        "Dataset used is IMDB dataset that contains text of 50000 movie reviews from the internet movie database.\n",
        "We will split the dataset into two sets. One for testing and the other one for validation.\n",
        "\n",
        "The notebook uses tf.keras, a high-level API to build and train models in Tensorflow Hub, a library for transfer learning."
      ],
      "metadata": {
        "id": "P1wqF-dU4W1x"
      }
    },
    {
      "cell_type": "markdown",
      "source": [
        "## Step 1 \n",
        "\n",
        "#### We'll import the required modules and check on the some info regarding version and GPU availability"
      ],
      "metadata": {
        "id": "BWoswfso6aPi"
      }
    },
    {
      "cell_type": "code",
      "source": [
        "import numpy as np\n",
        "\n",
        "import tensorflow as tf\n",
        "import tensorflow_hub as hub\n",
        "import tensorflow_datasets as tfds # Importing tensorflow dataset\n",
        "\n",
        "import matplotlib.pyplot as plt\n",
        "\n",
        "print(\"Version: \", tf.__version__)\n",
        "print(\"Eager mode: \", tf.executing_eagerly())\n",
        "print(\"Hub version: \", hub.__version__)\n",
        "print(\"GPU is\", \"available\" if tf.config.list_physical_devices('GPU') else \"not available\")"
      ],
      "metadata": {
        "colab": {
          "base_uri": "https://localhost:8080/"
        },
        "id": "00H8-O295MrO",
        "outputId": "2d50f33f-645c-49f7-a25a-df689779f818"
      },
      "execution_count": 1,
      "outputs": [
        {
          "output_type": "stream",
          "name": "stdout",
          "text": [
            "Version:  2.8.2\n",
            "Eager mode:  True\n",
            "Hub version:  0.12.0\n",
            "GPU is available\n"
          ]
        }
      ]
    },
    {
      "cell_type": "markdown",
      "source": [
        "## Step 2\n",
        "\n",
        "We will create two data subsets, one for training the other for validation \n",
        "\n",
        "TFDS\n",
        "<br>\n",
        "Title: `imdb_reviews`, A collection of ready-to-use datasets <br>\n",
        "Link:  [https://www.tensorflow.org/datasets](https://www.tensorflow.org/datasets)"
      ],
      "metadata": {
        "id": "qQUH7grO626L"
      }
    },
    {
      "cell_type": "code",
      "source": [
        "train_data, test_data = tfds.load(name=\"imdb_reviews\", split=[\"train\",\"test\"], batch_size=-1, as_supervised=True)\n",
        "train_examples, train_labels = tfds.as_numpy(train_data)\n",
        "test_examples, test_labels = tfds.as_numpy(test_data)"
      ],
      "metadata": {
        "colab": {
          "base_uri": "https://localhost:8080/",
          "height": 420,
          "referenced_widgets": [
            "82d4b435e6304df5b59a32c372b7979e",
            "8c84a299084b4cb7bc1f76e6ac6c6679",
            "c3d374a3ac9a407792c9d2573043da75",
            "732b00437a86424bb7935bdd31664331",
            "0ddf908621f64a69bd0101e46bfa2b4f",
            "84e9f3ce14314802a7568fcc745f5bd4",
            "7d034f318610451885567ad65aa6d749",
            "52277fe11c3e4a119ba9d29fa4bce754",
            "fd8acd5dad254dc88c06737090a667a4",
            "d99625de6b6a4610a160367438acf9f6",
            "db47750c58e44c7992ab94f45f3cf6c8",
            "acc0d792b9ba45b79f38ae46169a3aee",
            "1db3d487fb5448db90d93774925592e4",
            "f73761bffe08453a922ac0341e697610",
            "23a8fef8aba540848194a4991b31d0e4",
            "68744b5aa9a843399e2da625a5f17b8c",
            "ff9b70b6db664c41910f5fb30d3e2a50",
            "2727fd45a0c14ab9af1b9eb827be32ab",
            "a1abec3f9fba414da80bb02149129d0c",
            "4acb96fa7d7a4c21b9d9a97f0db93d3e",
            "0663e67a228f4cfba667c0e8ee900427",
            "099befc3477546a687c916039d7dd4aa",
            "8ae416d43701427ab8e49f30e0769031",
            "37693f42ad9b4e099570c903f6332f0f",
            "5b3da7bab79642bbb98df0ef529d9802",
            "1483911bde59441a8ecf1d5da7be014d",
            "a158c17e85624ce487166092213fc8ec",
            "16e25d23f1854282ba0cc209c5a3ceda",
            "0e36e10ff08f4f54b7bf8d061ae79323",
            "762775a03e4540b8a58281ec691c01c0",
            "19c213ee103b46f1a8854ce339b96079",
            "8fa6ab50c2e5471cbc8b466eb9868678",
            "5368e81a3672491e801b2cae735cd4af",
            "c91334c745d14bf591bad1ccfde7fd98",
            "a6019a5db099454bb54e1ef517458902",
            "d90dea0e14da42d1b2df26e8acbb28c0",
            "f3358820f5ef4776b1ff01b210de09b4",
            "2956fd34687f4d9d939c781f30b0cc7b",
            "6e15609b24c54620a2ba6a6aa2261072",
            "f5af5a14d2a54f85935ccfa35734a212",
            "5d27aeafc70f47549d76180ae06e049a",
            "d439792f65b6430e8c96d33b362d4489",
            "f39d0b8a02ba4625ab0251c9ab592582",
            "58abce5478094f15902b1b242b6e52a4",
            "e887cbfe5707424984f62db560d0b501",
            "e86295e1ee6d413f9bf0f92130b25025",
            "475f81c7bf8646bb8eedbd0b2a15366d",
            "d71f1fb4bf7943e9b489e92926db41e5",
            "61ae3acacff94a5e9052d058926cdb8c",
            "f287a4a9a4584ae9ae35273bc97dc75a",
            "623479a5db74489aafe604d203b7473f",
            "b770801925594445a2924a2cd37fecd3",
            "dd3e3c5006f04e0693fcf1bff61ca049",
            "e917a250328947c09fbcfc841a7504a2",
            "1b73649649024c5db5058887e57861b8",
            "cee7e64331674340ae94d62f42e5babf",
            "1ca71ae495e64e77bcffd2f1079f8096",
            "13936c1a88ca4b06a0d33847db630d6f",
            "1204c69a268f4f32b29dd1b3e7c83277",
            "df54960912154f209aa6d0cfc3cbca2b",
            "c11d647e7e7f4d7abc085de5c065e3df",
            "26cde81d88bc4274a3db04868f4c3259",
            "f6f8989458f742d6968719752fe328e6",
            "2cc5dafd6e86445fbfc82f27bce75a77",
            "eab405e319e34efbaf6495810bf00e1d",
            "5b92568bd8ed4dffa17c3399085426be",
            "d89772e1bc0e4bf791e996339737db3a",
            "ec20b2d23bd247e786f8764f14c6b548",
            "05a444a83a0f44b7964e5e72aac91ac2",
            "f515b72a839b4475bb96c37e6eb2d30a",
            "86d033766a9b4995b8e74ecc814488f2",
            "ca8541255b914e02930ac136c3651521",
            "da9e5fc7213d4f96997ce90a84f91bfa",
            "51fd4d54779b433081c22bf5699a8154",
            "1502bdd2a34e43a4bf241fe2eaded4e8",
            "25e223758c5f4e59895cbbcf412c1fc6",
            "de9785bbb19b48379096147d6a0203e8",
            "6967b034ce344c77897b1d0116b0d1e8",
            "4d13befc0a334f12ba289a075607650d",
            "fcfed6041ef041cca1bd1566706eece6",
            "a49a2fbf4321413ca91825228893fda2",
            "0265f82e48d74922ba68adaa057e7baa",
            "31343b3a3b4848b6945b7eae6440c9e2",
            "09434e62334d4d2da951028d6d549c8d",
            "3c81509572d049c0a17e4650c8a64dc3",
            "1431b634d2184e878822134433dcd80c",
            "5fe27b86377d455ab25316a54b9e04b2",
            "305f91e8ae5f49a8a97a157ee879a1b5"
          ]
        },
        "id": "hlb_qyoY6SN9",
        "outputId": "0104269d-bd17-4a9f-a306-c966fe4913b9"
      },
      "execution_count": 2,
      "outputs": [
        {
          "output_type": "stream",
          "name": "stdout",
          "text": [
            "\u001b[1mDownloading and preparing dataset imdb_reviews/plain_text/1.0.0 (download: 80.23 MiB, generated: Unknown size, total: 80.23 MiB) to /root/tensorflow_datasets/imdb_reviews/plain_text/1.0.0...\u001b[0m\n"
          ]
        },
        {
          "output_type": "display_data",
          "data": {
            "text/plain": [
              "Dl Completed...: 0 url [00:00, ? url/s]"
            ],
            "application/vnd.jupyter.widget-view+json": {
              "version_major": 2,
              "version_minor": 0,
              "model_id": "82d4b435e6304df5b59a32c372b7979e"
            }
          },
          "metadata": {}
        },
        {
          "output_type": "display_data",
          "data": {
            "text/plain": [
              "Dl Size...: 0 MiB [00:00, ? MiB/s]"
            ],
            "application/vnd.jupyter.widget-view+json": {
              "version_major": 2,
              "version_minor": 0,
              "model_id": "acc0d792b9ba45b79f38ae46169a3aee"
            }
          },
          "metadata": {}
        },
        {
          "output_type": "stream",
          "name": "stdout",
          "text": [
            "\n",
            "\n"
          ]
        },
        {
          "output_type": "display_data",
          "data": {
            "text/plain": [
              "0 examples [00:00, ? examples/s]"
            ],
            "application/vnd.jupyter.widget-view+json": {
              "version_major": 2,
              "version_minor": 0,
              "model_id": "8ae416d43701427ab8e49f30e0769031"
            }
          },
          "metadata": {}
        },
        {
          "output_type": "stream",
          "name": "stdout",
          "text": [
            "Shuffling and writing examples to /root/tensorflow_datasets/imdb_reviews/plain_text/1.0.0.incompleteQX7VFP/imdb_reviews-train.tfrecord\n"
          ]
        },
        {
          "output_type": "display_data",
          "data": {
            "text/plain": [
              "  0%|          | 0/25000 [00:00<?, ? examples/s]"
            ],
            "application/vnd.jupyter.widget-view+json": {
              "version_major": 2,
              "version_minor": 0,
              "model_id": "c91334c745d14bf591bad1ccfde7fd98"
            }
          },
          "metadata": {}
        },
        {
          "output_type": "display_data",
          "data": {
            "text/plain": [
              "0 examples [00:00, ? examples/s]"
            ],
            "application/vnd.jupyter.widget-view+json": {
              "version_major": 2,
              "version_minor": 0,
              "model_id": "e887cbfe5707424984f62db560d0b501"
            }
          },
          "metadata": {}
        },
        {
          "output_type": "stream",
          "name": "stdout",
          "text": [
            "Shuffling and writing examples to /root/tensorflow_datasets/imdb_reviews/plain_text/1.0.0.incompleteQX7VFP/imdb_reviews-test.tfrecord\n"
          ]
        },
        {
          "output_type": "display_data",
          "data": {
            "text/plain": [
              "  0%|          | 0/25000 [00:00<?, ? examples/s]"
            ],
            "application/vnd.jupyter.widget-view+json": {
              "version_major": 2,
              "version_minor": 0,
              "model_id": "cee7e64331674340ae94d62f42e5babf"
            }
          },
          "metadata": {}
        },
        {
          "output_type": "display_data",
          "data": {
            "text/plain": [
              "0 examples [00:00, ? examples/s]"
            ],
            "application/vnd.jupyter.widget-view+json": {
              "version_major": 2,
              "version_minor": 0,
              "model_id": "d89772e1bc0e4bf791e996339737db3a"
            }
          },
          "metadata": {}
        },
        {
          "output_type": "stream",
          "name": "stdout",
          "text": [
            "Shuffling and writing examples to /root/tensorflow_datasets/imdb_reviews/plain_text/1.0.0.incompleteQX7VFP/imdb_reviews-unsupervised.tfrecord\n"
          ]
        },
        {
          "output_type": "display_data",
          "data": {
            "text/plain": [
              "  0%|          | 0/50000 [00:00<?, ? examples/s]"
            ],
            "application/vnd.jupyter.widget-view+json": {
              "version_major": 2,
              "version_minor": 0,
              "model_id": "6967b034ce344c77897b1d0116b0d1e8"
            }
          },
          "metadata": {}
        },
        {
          "output_type": "stream",
          "name": "stderr",
          "text": [
            "WARNING:absl:Dataset is using deprecated text encoder API which will be removed soon. Please use the plain_text version of the dataset and migrate to `tensorflow_text`.\n"
          ]
        },
        {
          "output_type": "stream",
          "name": "stdout",
          "text": [
            "\u001b[1mDataset imdb_reviews downloaded and prepared to /root/tensorflow_datasets/imdb_reviews/plain_text/1.0.0. Subsequent calls will reuse this data.\u001b[0m\n",
            "WARNING:tensorflow:From /usr/local/lib/python3.7/dist-packages/tensorflow_datasets/core/dataset_builder.py:598: get_single_element (from tensorflow.python.data.experimental.ops.get_single_element) is deprecated and will be removed in a future version.\n",
            "Instructions for updating:\n",
            "Use `tf.data.Dataset.get_single_element()`.\n"
          ]
        },
        {
          "output_type": "stream",
          "name": "stderr",
          "text": [
            "WARNING:tensorflow:From /usr/local/lib/python3.7/dist-packages/tensorflow_datasets/core/dataset_builder.py:598: get_single_element (from tensorflow.python.data.experimental.ops.get_single_element) is deprecated and will be removed in a future version.\n",
            "Instructions for updating:\n",
            "Use `tf.data.Dataset.get_single_element()`.\n"
          ]
        }
      ]
    },
    {
      "cell_type": "code",
      "source": [
        "print(\"Training entries: {}, test entries: {}\".format(len(train_examples),len(test_examples)))"
      ],
      "metadata": {
        "colab": {
          "base_uri": "https://localhost:8080/"
        },
        "id": "1PbdFjD__Llx",
        "outputId": "7b2905d7-f76f-48d4-9162-71d0bc3ea43d"
      },
      "execution_count": 3,
      "outputs": [
        {
          "output_type": "stream",
          "name": "stdout",
          "text": [
            "Training entries: 25000, test entries: 25000\n"
          ]
        }
      ]
    },
    {
      "cell_type": "markdown",
      "source": [
        "## Examine the Training Data\n",
        "\n",
        "We've split the dataset into two subsets. The label is an integer value of either 0 or 1. 0 implies a negative review and 1 implies a positive review"
      ],
      "metadata": {
        "id": "i_aD60XGB-18"
      }
    },
    {
      "cell_type": "code",
      "source": [
        "print(\"Review Samples from Training Data : \\n\",train_examples[:5])\n",
        "print(\"Labels for the Samples from Trainig Data : \",train_labels[:5])"
      ],
      "metadata": {
        "colab": {
          "base_uri": "https://localhost:8080/"
        },
        "id": "NfevPHFOBf3T",
        "outputId": "1a2877bd-c2ba-4d64-b53e-9df76b9c73a9"
      },
      "execution_count": 4,
      "outputs": [
        {
          "output_type": "stream",
          "name": "stdout",
          "text": [
            "Review Samples from Training Data : \n",
            " [b\"This was an absolutely terrible movie. Don't be lured in by Christopher Walken or Michael Ironside. Both are great actors, but this must simply be their worst role in history. Even their great acting could not redeem this movie's ridiculous storyline. This movie is an early nineties US propaganda piece. The most pathetic scenes were those when the Columbian rebels were making their cases for revolutions. Maria Conchita Alonso appeared phony, and her pseudo-love affair with Walken was nothing but a pathetic emotional plug in a movie that was devoid of any real meaning. I am disappointed that there are movies like this, ruining actor's like Christopher Walken's good name. I could barely sit through it.\"\n",
            " b'I have been known to fall asleep during films, but this is usually due to a combination of things including, really tired, being warm and comfortable on the sette and having just eaten a lot. However on this occasion I fell asleep because the film was rubbish. The plot development was constant. Constantly slow and boring. Things seemed to happen, but with no explanation of what was causing them or why. I admit, I may have missed part of the film, but i watched the majority of it and everything just seemed to happen of its own accord without any real concern for anything else. I cant recommend this film at all.'\n",
            " b'Mann photographs the Alberta Rocky Mountains in a superb fashion, and Jimmy Stewart and Walter Brennan give enjoyable performances as they always seem to do. <br /><br />But come on Hollywood - a Mountie telling the people of Dawson City, Yukon to elect themselves a marshal (yes a marshal!) and to enforce the law themselves, then gunfighters battling it out on the streets for control of the town? <br /><br />Nothing even remotely resembling that happened on the Canadian side of the border during the Klondike gold rush. Mr. Mann and company appear to have mistaken Dawson City for Deadwood, the Canadian North for the American Wild West.<br /><br />Canadian viewers be prepared for a Reefer Madness type of enjoyable howl with this ludicrous plot, or, to shake your head in disgust.'\n",
            " b'This is the kind of film for a snowy Sunday afternoon when the rest of the world can go ahead with its own business as you descend into a big arm-chair and mellow for a couple of hours. Wonderful performances from Cher and Nicolas Cage (as always) gently row the plot along. There are no rapids to cross, no dangerous waters, just a warm and witty paddle through New York life at its best. A family film in every sense and one that deserves the praise it received.'\n",
            " b'As others have mentioned, all the women that go nude in this film are mostly absolutely gorgeous. The plot very ably shows the hypocrisy of the female libido. When men are around they want to be pursued, but when no \"men\" are around, they become the pursuers of a 14 year old boy. And the boy becomes a man really fast (we should all be so lucky at this age!). He then gets up the courage to pursue his true love.']\n",
            "Labels for the Samples from Trainig Data :  [0 0 0 1 1]\n"
          ]
        }
      ]
    },
    {
      "cell_type": "markdown",
      "source": [
        "## Visualizing the Data traing data\n",
        "\n",
        "We'll visualize the distribution of reviews in training data using a pie chart\n"
      ],
      "metadata": {
        "id": "suCfXKw4Cf8U"
      }
    },
    {
      "cell_type": "code",
      "source": [
        "import matplotlib.pyplot as plt\n",
        "labels = 'Good', 'Bad'\n",
        "good = len([x for x in train_labels if x == 1])\n",
        "bad = len([x for x in train_labels if x == 0])\n",
        "sections = [good,bad]\n",
        "colors=['g','r']\n",
        "\n",
        "plt.pie(sections,labels=labels, colors=colors, startangle=90, explode=(0,0),autopct=\"%1.2f%%\")\n",
        "\n",
        "plt.axis('equal')\n",
        "plt.title(\"Reviews Distribution\")\n",
        "plt.show()"
      ],
      "metadata": {
        "colab": {
          "base_uri": "https://localhost:8080/",
          "height": 264
        },
        "id": "dvGL-cNyCfIv",
        "outputId": "13f26796-7a71-4008-ead3-8f1d3d611fb0"
      },
      "execution_count": 5,
      "outputs": [
        {
          "output_type": "display_data",
          "data": {
            "text/plain": [
              "<Figure size 432x288 with 1 Axes>"
            ],
            "image/png": "[encoded data removed]"
          },
          "metadata": {}
        }
      ]
    },
    {
      "cell_type": "markdown",
      "source": [
        "## Building the model\n",
        "\n",
        "The neural network is created by stacking layers. This requires three main architectural decisions\n",
        "\n",
        "1. How to represent the text?\n",
        "2. How many layers to use in the model?\n",
        "3. How many hidden units to use for each layer?\n",
        "\n"
      ],
      "metadata": {
        "id": "HQIzC9DSFag4"
      }
    },
    {
      "cell_type": "code",
      "source": [
        "# model = \"https://tfhub.dev/google/nnlm-en-dim50/2\"\n",
        "# model=\"https://tfhub.dev/google/nnlm-en-dim128-with-normalization/2\"\n",
        "model=\"https://tfhub.dev/google/nnlm-en-dim50-with-normalization/2\"\n",
        "hub_layer = hub.KerasLayer(model, input_shape=[], dtype=tf.string, trainable=True)\n",
        "hub_layer(train_examples[:3])"
      ],
      "metadata": {
        "colab": {
          "base_uri": "https://localhost:8080/"
        },
        "id": "0VpmVClIGoaS",
        "outputId": "8e65cf32-6b9c-4b30-f4de-e94d9768d1b7"
      },
      "execution_count": 6,
      "outputs": [
        {
          "output_type": "execute_result",
          "data": {
            "text/plain": [
              "<tf.Tensor: shape=(3, 50), dtype=float32, numpy=\n",
              "array([[-6.63082255e-03, -3.77843566e-02, -1.06093893e-03,\n",
              "         1.12500794e-01, -3.08166802e-01, -5.20975105e-02,\n",
              "         1.18060581e-01, -3.02085876e-01, -3.61006558e-01,\n",
              "         7.17748515e-03,  2.87228912e-01, -3.49928141e-02,\n",
              "         8.54964852e-02,  2.43020013e-01, -1.87678829e-01,\n",
              "        -8.90086591e-02, -3.96383733e-01, -2.78948843e-01,\n",
              "         2.26424798e-01, -9.84284818e-01,  2.02210531e-01,\n",
              "        -3.18006486e-01,  5.52558243e-01,  3.08822215e-01,\n",
              "        -3.95315766e-01,  3.10828447e-01, -1.08329940e+00,\n",
              "        -3.35959673e-01,  6.85921609e-01, -2.32374862e-01,\n",
              "        -6.95451498e-01,  2.49214068e-01,  3.22257400e-01,\n",
              "        -1.12029798e-01, -3.34058970e-01,  2.19253391e-01,\n",
              "         2.99318135e-01,  6.99665546e-02,  2.17674166e-01,\n",
              "        -4.59277511e-01,  1.25848921e-02,  1.51505351e-01,\n",
              "        -3.85719329e-01,  1.05302185e-01, -3.84931058e-01,\n",
              "        -6.05441988e-01, -2.25554466e-01, -2.51675338e-01,\n",
              "         1.42623812e-01, -3.37336957e-01],\n",
              "       [ 3.07578355e-01, -6.41132817e-02, -2.89934456e-01,\n",
              "         7.15175867e-01, -1.87449634e-01, -1.45832002e-01,\n",
              "         1.51249081e-01, -2.30551869e-01, -4.64809150e-01,\n",
              "         5.13847172e-01,  1.28907859e-01,  1.86351106e-01,\n",
              "        -4.37123999e-02,  6.52037188e-02, -2.67009974e-01,\n",
              "        -5.32162905e-01, -4.65032399e-01, -2.29634009e-02,\n",
              "         2.05298781e-01, -7.18671918e-01,  5.56441359e-02,\n",
              "        -1.46094576e-01,  6.95371687e-01,  1.54434517e-01,\n",
              "        -3.89223158e-01,  3.35433483e-01, -1.11242580e+00,\n",
              "         3.30016732e-01,  2.71937251e-01, -7.05558956e-01,\n",
              "        -6.45492911e-01,  1.36007637e-01,  5.33551633e-01,\n",
              "        -3.06471229e-01, -5.64808905e-01,  4.69084859e-01,\n",
              "         1.33730233e-01, -5.93314208e-02,  4.03350025e-01,\n",
              "        -5.98522425e-01,  4.71971221e-02,  3.44880164e-01,\n",
              "         1.50444448e-01,  3.25193524e-01, -8.41785446e-02,\n",
              "        -2.12495282e-01, -4.54681516e-01, -3.27813089e-01,\n",
              "         2.32468128e-01, -2.08094448e-01],\n",
              "       [ 5.39417148e-01,  1.14390299e-01,  1.34397835e-01,\n",
              "         4.30744827e-01,  2.95094345e-02,  1.10496610e-01,\n",
              "        -3.03507596e-01, -1.58217311e-01, -3.13440382e-01,\n",
              "         3.83507490e-01, -2.37036869e-02,  8.83445740e-02,\n",
              "        -2.91621536e-02,  1.81027532e-01, -1.98934618e-02,\n",
              "        -3.29567552e-01, -3.55226785e-01,  7.54100457e-02,\n",
              "        -1.92316473e-01, -8.14176559e-01,  1.83840722e-01,\n",
              "        -1.49061382e-01,  2.06349492e-01,  4.05531585e-01,\n",
              "         3.27802271e-01,  6.27839446e-01, -8.72198761e-01,\n",
              "         1.17331199e-01,  3.43409218e-02, -3.37764114e-01,\n",
              "        -2.02974617e-01, -2.13441014e-01, -1.14065660e-02,\n",
              "        -2.37809308e-02, -2.15493828e-01, -2.74005711e-01,\n",
              "        -1.57255426e-01,  5.49099855e-02, -2.84001559e-01,\n",
              "        -4.95633721e-01,  7.05878735e-02, -1.83362246e-01,\n",
              "        -2.41241574e-01,  1.25309318e-01, -3.78139585e-01,\n",
              "        -8.26455355e-02, -1.59618538e-02, -5.70404306e-02,\n",
              "        -3.85546833e-01,  4.47012410e-02]], dtype=float32)>"
            ]
          },
          "metadata": {},
          "execution_count": 6
        }
      ]
    },
    {
      "cell_type": "markdown",
      "source": [
        "Next, we'll build the full model\n",
        "\n",
        "The neural network layers are stacked sequentially to build the model\n",
        "1. The first layer is the tensorflow Hub Layer. This layer is the pre-trained saved model to map a sentence into its embedding vector. The model we are using is called [google/nnlm-en-dim50/2](https://tfhub.dev/google/nnlm-en-dim50/2) splits the sentence into tokens, embdes each token and then combines the embeddings. The resulting dimensions are [num_examples,embedding_dimensions]\n",
        "\n",
        "2. The fixed length output vector is piped through a fully-connected dense layer with 16 hidden units\n",
        "\n",
        "3. The last layer is densely connected with a single outpit node. This output logits: the log-odds of the truw class, according to the model"
      ],
      "metadata": {
        "id": "Xg9i3xGFIIlB"
      }
    },
    {
      "cell_type": "code",
      "source": [
        "model = tf.keras.Sequential()\n",
        "model.add(hub_layer)\n",
        "model.add(tf.keras.layers.Dense(16, activation='relu'))\n",
        "model.add(tf.keras.layers.Dense(1))\n",
        "# print(model)\n",
        "model.summary()"
      ],
      "metadata": {
        "colab": {
          "base_uri": "https://localhost:8080/"
        },
        "id": "BivNVk81ILym",
        "outputId": "6fd30573-85a9-4439-8063-4f278181cd7a"
      },
      "execution_count": 7,
      "outputs": [
        {
          "output_type": "stream",
          "name": "stdout",
          "text": [
            "Model: \"sequential\"\n",
            "_________________________________________________________________\n",
            " Layer (type)                Output Shape              Param #   \n",
            "=================================================================\n",
            " keras_layer (KerasLayer)    (None, 50)                48190600  \n",
            "                                                                 \n",
            " dense (Dense)               (None, 16)                816       \n",
            "                                                                 \n",
            " dense_1 (Dense)             (None, 1)                 17        \n",
            "                                                                 \n",
            "=================================================================\n",
            "Total params: 48,191,433\n",
            "Trainable params: 48,191,433\n",
            "Non-trainable params: 0\n",
            "_________________________________________________________________\n"
          ]
        }
      ]
    },
    {
      "cell_type": "markdown",
      "source": [
        "### A note on Hidden Units\n",
        "\n",
        "The above model has two intermediate or \"hidden\" layers, between the input and the output. The number of outputs is the dimension of the representational space for the layer. In other words, the amount of freedom the network is allowed when learning an internal representation.\n",
        "\n",
        "If a model has more hidden units and or more layers, the the network can learn more complex representations. However it makes the metrwork more computationally expensive and may lead to learning unwanted patterns - patterns that improve performance on training data but not on the test data.\n",
        "\n",
        "This is called overfitting.\n",
        "\n",
        "### A note on Loss function and optimizer\n",
        "\n",
        "A model needs a loss fucntion and an optimizer for training. Since this is a binary classification problem and the model outputs a probability (a single-unit layer with a sigmoid activation), we'll use the binary_crossentropy loss function.\n",
        "\n",
        "binary_crossentropy is a better loss fucntion when dealing with probabilities compared to mean squared errors.\n",
        "\n",
        "Let's configure the model to use an optimizer and loss function."
      ],
      "metadata": {
        "id": "1JNzeNnLJwVd"
      }
    },
    {
      "cell_type": "code",
      "source": [
        "model.compile(optimizer='adam', loss=tf.losses.BinaryCrossentropy(from_logits=True),metrics=[tf.metrics.BinaryAccuracy(threshold=0.0, name='accuracy')])"
      ],
      "metadata": {
        "id": "WGhjLInsNb2l"
      },
      "execution_count": 8,
      "outputs": []
    },
    {
      "cell_type": "markdown",
      "source": [
        "## Validation Set\n",
        "\n",
        "We will take 10000 samples from the training data to create the validation set"
      ],
      "metadata": {
        "id": "uVV2LPR7N5he"
      }
    },
    {
      "cell_type": "code",
      "source": [
        "x_validation = train_examples[:10000]\n",
        "partial_x_train = train_examples[10000:]\n",
        "\n",
        "y_validation = train_labels[:10000]\n",
        "partial_y_train = train_labels[10000:]"
      ],
      "metadata": {
        "id": "Qfcp-3BcOOu8"
      },
      "execution_count": 9,
      "outputs": []
    },
    {
      "cell_type": "markdown",
      "source": [
        "## Train the model\n",
        "\n",
        "- Train the model for 40 epochs in mini-batches of 512 samples.\n",
        "- This will perform 40 iterations over all samples in the x_train and y_tarin tensors\n",
        "- While training, monitor the model's loss and accuracy on the 10000 samples from the validation set"
      ],
      "metadata": {
        "id": "L_4H6y6MOjQo"
      }
    },
    {
      "cell_type": "code",
      "source": [
        "history = model.fit(partial_x_train, partial_y_train, epochs=40, batch_size=512, validation_data=(x_validation,y_validation),verbose=1)"
      ],
      "metadata": {
        "colab": {
          "base_uri": "https://localhost:8080/"
        },
        "id": "OSb328SAPMG8",
        "outputId": "f096009d-4b01-4f61-8b72-98b7004415f0"
      },
      "execution_count": 10,
      "outputs": [
        {
          "output_type": "stream",
          "name": "stdout",
          "text": [
            "Epoch 1/40\n",
            "30/30 [==============================] - 6s 65ms/step - loss: 0.6739 - accuracy: 0.6143 - val_loss: 0.6017 - val_accuracy: 0.7305\n",
            "Epoch 2/40\n",
            "30/30 [==============================] - 2s 59ms/step - loss: 0.5388 - accuracy: 0.7924 - val_loss: 0.5013 - val_accuracy: 0.8012\n",
            "Epoch 3/40\n",
            "30/30 [==============================] - 2s 59ms/step - loss: 0.4184 - accuracy: 0.8589 - val_loss: 0.4051 - val_accuracy: 0.8461\n",
            "Epoch 4/40\n",
            "30/30 [==============================] - 2s 60ms/step - loss: 0.3096 - accuracy: 0.9011 - val_loss: 0.3355 - val_accuracy: 0.8719\n",
            "Epoch 5/40\n",
            "30/30 [==============================] - 2s 58ms/step - loss: 0.2275 - accuracy: 0.9292 - val_loss: 0.2968 - val_accuracy: 0.8834\n",
            "Epoch 6/40\n",
            "30/30 [==============================] - 2s 59ms/step - loss: 0.1705 - accuracy: 0.9506 - val_loss: 0.2761 - val_accuracy: 0.8883\n",
            "Epoch 7/40\n",
            "30/30 [==============================] - 2s 59ms/step - loss: 0.1289 - accuracy: 0.9651 - val_loss: 0.2669 - val_accuracy: 0.8902\n",
            "Epoch 8/40\n",
            "30/30 [==============================] - 2s 59ms/step - loss: 0.0979 - accuracy: 0.9783 - val_loss: 0.2648 - val_accuracy: 0.8924\n",
            "Epoch 9/40\n",
            "30/30 [==============================] - 2s 60ms/step - loss: 0.0744 - accuracy: 0.9863 - val_loss: 0.2638 - val_accuracy: 0.8954\n",
            "Epoch 10/40\n",
            "30/30 [==============================] - 2s 60ms/step - loss: 0.0564 - accuracy: 0.9915 - val_loss: 0.2665 - val_accuracy: 0.8955\n",
            "Epoch 11/40\n",
            "30/30 [==============================] - 2s 59ms/step - loss: 0.0431 - accuracy: 0.9944 - val_loss: 0.2716 - val_accuracy: 0.8950\n",
            "Epoch 12/40\n",
            "30/30 [==============================] - 2s 59ms/step - loss: 0.0335 - accuracy: 0.9963 - val_loss: 0.2796 - val_accuracy: 0.8941\n",
            "Epoch 13/40\n",
            "30/30 [==============================] - 2s 60ms/step - loss: 0.0258 - accuracy: 0.9977 - val_loss: 0.2851 - val_accuracy: 0.8937\n",
            "Epoch 14/40\n",
            "30/30 [==============================] - 2s 59ms/step - loss: 0.0202 - accuracy: 0.9987 - val_loss: 0.2922 - val_accuracy: 0.8930\n",
            "Epoch 15/40\n",
            "30/30 [==============================] - 2s 58ms/step - loss: 0.0161 - accuracy: 0.9991 - val_loss: 0.3002 - val_accuracy: 0.8920\n",
            "Epoch 16/40\n",
            "30/30 [==============================] - 2s 59ms/step - loss: 0.0132 - accuracy: 0.9993 - val_loss: 0.3067 - val_accuracy: 0.8922\n",
            "Epoch 17/40\n",
            "30/30 [==============================] - 2s 58ms/step - loss: 0.0108 - accuracy: 0.9994 - val_loss: 0.3132 - val_accuracy: 0.8922\n",
            "Epoch 18/40\n",
            "30/30 [==============================] - 2s 59ms/step - loss: 0.0089 - accuracy: 0.9995 - val_loss: 0.3198 - val_accuracy: 0.8915\n",
            "Epoch 19/40\n",
            "30/30 [==============================] - 2s 59ms/step - loss: 0.0075 - accuracy: 0.9997 - val_loss: 0.3257 - val_accuracy: 0.8910\n",
            "Epoch 20/40\n",
            "30/30 [==============================] - 2s 59ms/step - loss: 0.0063 - accuracy: 0.9998 - val_loss: 0.3323 - val_accuracy: 0.8905\n",
            "Epoch 21/40\n",
            "30/30 [==============================] - 2s 60ms/step - loss: 0.0054 - accuracy: 0.9998 - val_loss: 0.3384 - val_accuracy: 0.8906\n",
            "Epoch 22/40\n",
            "30/30 [==============================] - 2s 61ms/step - loss: 0.0044 - accuracy: 0.9999 - val_loss: 0.3441 - val_accuracy: 0.8899\n",
            "Epoch 23/40\n",
            "30/30 [==============================] - 2s 61ms/step - loss: 0.0038 - accuracy: 1.0000 - val_loss: 0.3501 - val_accuracy: 0.8891\n",
            "Epoch 24/40\n",
            "30/30 [==============================] - 2s 63ms/step - loss: 0.0033 - accuracy: 1.0000 - val_loss: 0.3556 - val_accuracy: 0.8893\n",
            "Epoch 25/40\n",
            "30/30 [==============================] - 2s 61ms/step - loss: 0.0029 - accuracy: 1.0000 - val_loss: 0.3604 - val_accuracy: 0.8893\n",
            "Epoch 26/40\n",
            "30/30 [==============================] - 2s 61ms/step - loss: 0.0026 - accuracy: 1.0000 - val_loss: 0.3653 - val_accuracy: 0.8893\n",
            "Epoch 27/40\n",
            "30/30 [==============================] - 2s 61ms/step - loss: 0.0023 - accuracy: 1.0000 - val_loss: 0.3703 - val_accuracy: 0.8891\n",
            "Epoch 28/40\n",
            "30/30 [==============================] - 2s 60ms/step - loss: 0.0021 - accuracy: 1.0000 - val_loss: 0.3745 - val_accuracy: 0.8887\n",
            "Epoch 29/40\n",
            "30/30 [==============================] - 2s 59ms/step - loss: 0.0019 - accuracy: 1.0000 - val_loss: 0.3787 - val_accuracy: 0.8889\n",
            "Epoch 30/40\n",
            "30/30 [==============================] - 2s 59ms/step - loss: 0.0017 - accuracy: 1.0000 - val_loss: 0.3827 - val_accuracy: 0.8885\n",
            "Epoch 31/40\n",
            "30/30 [==============================] - 2s 59ms/step - loss: 0.0016 - accuracy: 1.0000 - val_loss: 0.3867 - val_accuracy: 0.8883\n",
            "Epoch 32/40\n",
            "30/30 [==============================] - 2s 60ms/step - loss: 0.0014 - accuracy: 1.0000 - val_loss: 0.3907 - val_accuracy: 0.8888\n",
            "Epoch 33/40\n",
            "30/30 [==============================] - 2s 59ms/step - loss: 0.0013 - accuracy: 1.0000 - val_loss: 0.3946 - val_accuracy: 0.8885\n",
            "Epoch 34/40\n",
            "30/30 [==============================] - 2s 60ms/step - loss: 0.0012 - accuracy: 1.0000 - val_loss: 0.3980 - val_accuracy: 0.8882\n",
            "Epoch 35/40\n",
            "30/30 [==============================] - 2s 59ms/step - loss: 0.0011 - accuracy: 1.0000 - val_loss: 0.4017 - val_accuracy: 0.8886\n",
            "Epoch 36/40\n",
            "30/30 [==============================] - 2s 59ms/step - loss: 0.0010 - accuracy: 1.0000 - val_loss: 0.4050 - val_accuracy: 0.8884\n",
            "Epoch 37/40\n",
            "30/30 [==============================] - 2s 59ms/step - loss: 9.5845e-04 - accuracy: 1.0000 - val_loss: 0.4084 - val_accuracy: 0.8886\n",
            "Epoch 38/40\n",
            "30/30 [==============================] - 2s 59ms/step - loss: 8.9114e-04 - accuracy: 1.0000 - val_loss: 0.4116 - val_accuracy: 0.8886\n",
            "Epoch 39/40\n",
            "30/30 [==============================] - 2s 59ms/step - loss: 8.3257e-04 - accuracy: 1.0000 - val_loss: 0.4147 - val_accuracy: 0.8886\n",
            "Epoch 40/40\n",
            "30/30 [==============================] - 2s 59ms/step - loss: 7.7766e-04 - accuracy: 1.0000 - val_loss: 0.4178 - val_accuracy: 0.8880\n"
          ]
        }
      ]
    },
    {
      "cell_type": "markdown",
      "source": [
        "model.fit() returns a History object that contains a dictionary with everything that happend during the training"
      ],
      "metadata": {
        "id": "U4EP1BBsSwgm"
      }
    },
    {
      "cell_type": "code",
      "source": [
        "history_dict = history.history\n",
        "print(history_dict.keys())\n",
        "print(history_dict)"
      ],
      "metadata": {
        "colab": {
          "base_uri": "https://localhost:8080/"
        },
        "id": "LBQr0HQtS7JT",
        "outputId": "d2ffe804-cd78-4a9e-ea53-ee15e6d17b29"
      },
      "execution_count": 11,
      "outputs": [
        {
          "output_type": "stream",
          "name": "stdout",
          "text": [
            "dict_keys(['loss', 'accuracy', 'val_loss', 'val_accuracy'])\n",
            "{'loss': [0.6739007234573364, 0.5387884378433228, 0.4183569550514221, 0.30964112281799316, 0.22745069861412048, 0.1704699546098709, 0.1289249062538147, 0.0978928655385971, 0.07443855702877045, 0.056449923664331436, 0.043143704533576965, 0.03350453823804855, 0.02579386718571186, 0.020239554345607758, 0.016148820519447327, 0.013180520385503769, 0.010834794491529465, 0.008930414915084839, 0.0075113242492079735, 0.0062977010384202, 0.005357242655009031, 0.004444627556949854, 0.0038101293612271547, 0.003328382270410657, 0.002935343189164996, 0.002596574602648616, 0.002322368323802948, 0.0020917668007314205, 0.0018864868907257915, 0.0017147894250229, 0.0015613451832905412, 0.0014286624500527978, 0.0013100149808451533, 0.001211497001349926, 0.0011155251413583755, 0.001034527667798102, 0.0009584454237483442, 0.0008911440381780267, 0.000832567922770977, 0.0007776581915095448], 'accuracy': [0.6142666935920715, 0.7924000024795532, 0.8589333295822144, 0.9011333584785461, 0.9291999936103821, 0.9506000280380249, 0.96506667137146, 0.9783333539962769, 0.9863333106040955, 0.9915333390235901, 0.9944000244140625, 0.9962666630744934, 0.9976666569709778, 0.9986666440963745, 0.9990666508674622, 0.9992666840553284, 0.9994000196456909, 0.9994666576385498, 0.9997333288192749, 0.9998000264167786, 0.9998000264167786, 0.9999333620071411, 1.0, 1.0, 1.0, 1.0, 1.0, 1.0, 1.0, 1.0, 1.0, 1.0, 1.0, 1.0, 1.0, 1.0, 1.0, 1.0, 1.0, 1.0], 'val_loss': [0.6017444133758545, 0.5012885928153992, 0.40512511134147644, 0.33550599217414856, 0.2967831492424011, 0.27608391642570496, 0.2669430077075958, 0.26483768224716187, 0.26384425163269043, 0.2665395736694336, 0.27155575156211853, 0.2795995771884918, 0.2851027250289917, 0.29215869307518005, 0.300150990486145, 0.3066565692424774, 0.3131641149520874, 0.3198157846927643, 0.3257484436035156, 0.3323036730289459, 0.33841532468795776, 0.3441370725631714, 0.3500922620296478, 0.35557684302330017, 0.3604087233543396, 0.3652562201023102, 0.37033867835998535, 0.37453004717826843, 0.3786575198173523, 0.3827359974384308, 0.3866964876651764, 0.3907492756843567, 0.39456015825271606, 0.39802709221839905, 0.4017041027545929, 0.4049806594848633, 0.4083744287490845, 0.4116116762161255, 0.41467049717903137, 0.41778266429901123], 'val_accuracy': [0.7304999828338623, 0.8011999726295471, 0.8460999727249146, 0.8719000220298767, 0.883400022983551, 0.8883000016212463, 0.8902000188827515, 0.8924000263214111, 0.8953999876976013, 0.8955000042915344, 0.8949999809265137, 0.89410001039505, 0.8937000036239624, 0.8930000066757202, 0.8920000195503235, 0.8921999931335449, 0.8921999931335449, 0.8914999961853027, 0.890999972820282, 0.890500009059906, 0.8906000256538391, 0.8899000287055969, 0.8891000151634216, 0.8892999887466431, 0.8892999887466431, 0.8892999887466431, 0.8891000151634216, 0.888700008392334, 0.8888999819755554, 0.8884999752044678, 0.8883000016212463, 0.8888000249862671, 0.8884999752044678, 0.8881999850273132, 0.8885999917984009, 0.8884000182151794, 0.8885999917984009, 0.8885999917984009, 0.8885999917984009, 0.8880000114440918]}\n"
          ]
        }
      ]
    },
    {
      "cell_type": "markdown",
      "source": [
        "## Evaluating Model\n",
        "\n",
        "Evaluate the model over test data. Two values will be returned. Loss and Accuracy"
      ],
      "metadata": {
        "id": "J5olfFK5Qtde"
      }
    },
    {
      "cell_type": "code",
      "source": [
        "results= model.evaluate(test_examples, test_labels)\n",
        "print(results)"
      ],
      "metadata": {
        "colab": {
          "base_uri": "https://localhost:8080/"
        },
        "id": "CTAtanUbQ4R_",
        "outputId": "a9f24d81-12c8-4094-f311-b35f8fea0b55"
      },
      "execution_count": 12,
      "outputs": [
        {
          "output_type": "stream",
          "name": "stdout",
          "text": [
            "782/782 [==============================] - 4s 5ms/step - loss: 0.5083 - accuracy: 0.8624\n",
            "[0.5082595348358154, 0.8623600006103516]\n"
          ]
        }
      ]
    },
    {
      "cell_type": "markdown",
      "source": [
        "A fairly naive approach is giving an accuracy of 87%. With more advanced approaches, model should get better. \n",
        "\n",
        "We can use different models from Tensorflow Hub for pre-trained text embeddings as the first layer. We have used  [google/nnlm-en-dim50/2](https://tfhub.dev/google/nnlm-en-dim50/2) \n",
        "\n",
        "We can also use two other models\n",
        "- [google/nnlm-en-dim50-with-normalization/2](https://tfhub.dev/google/nnlm-en-dim50-with-normalization/2) - same as [google/nnlm-en-dim50/2](https://tfhub.dev/google/nnlm-en-dim50/2), but with additional text normalization to remove punctuation. This can help to get better coverage of in-vocabulary embeddings for tokens on your input text.\n",
        "- [google/nnlm-en-dim128-with-normalization/2](https://tfhub.dev/google/nnlm-en-dim128-with-normalization/2) - A larger model with an embedding dimension of 128 instead of the smaller 50."
      ],
      "metadata": {
        "id": "JN9BTGIdRetG"
      }
    },
    {
      "cell_type": "markdown",
      "source": [
        "## Visualizing Accuracy and Loss\n",
        "\n",
        "model.fit() returns a History object that contains a dictionary with everything that happend during the training\n",
        "\n",
        "`dict_keys(['loss', 'accuracy', 'val_loss', 'val_accuracy'])`\n",
        "\n",
        "We can plot the training and validation loss for comparison as well as the training and validation accuracy"
      ],
      "metadata": {
        "id": "efg_3Q2YRU0N"
      }
    },
    {
      "cell_type": "code",
      "source": [
        "accuracy = history_dict['accuracy']\n",
        "validation_accuracy = history_dict['val_accuracy']\n",
        "loss = history_dict['loss']\n",
        "validation_loss = history_dict['val_loss']\n",
        "\n",
        "epochs = range(1, len(accuracy) + 1)\n",
        "\n",
        "plt.plot(epochs, loss, 'bo', label='Training loss')\n",
        "\n",
        "plt.plot(epochs,validation_loss,'b', label='Validation loss')\n",
        "plt.title('Training and validation loss')\n",
        "plt.xlabel('Epochs')\n",
        "plt.ylabel('Loss')\n",
        "plt.legend()\n",
        "\n",
        "plt.show()"
      ],
      "metadata": {
        "colab": {
          "base_uri": "https://localhost:8080/",
          "height": 295
        },
        "id": "aGGtWBfkT0sA",
        "outputId": "89089815-fcae-4522-fa40-65dedc738298"
      },
      "execution_count": 13,
      "outputs": [
        {
          "output_type": "display_data",
          "data": {
            "text/plain": [
              "<Figure size 432x288 with 1 Axes>"
            ],
            "image/png": "[encoded data removed]"
          },
          "metadata": {
            "needs_background": "light"
          }
        }
      ]
    },
    {
      "cell_type": "code",
      "source": [
        "plt.clf()\n",
        "\n",
        "plt.plot(epochs, accuracy, 'go', label='Training accuracy')\n",
        "plt.plot(epochs, validation_accuracy, 'g', label='Validation accuracy')\n",
        "plt.title('Training and validation accuracy')\n",
        "plt.xlabel('Epochs')\n",
        "plt.ylabel('Accuracy')\n",
        "plt.legend()\n",
        "\n",
        "plt.show()"
      ],
      "metadata": {
        "colab": {
          "base_uri": "https://localhost:8080/",
          "height": 295
        },
        "id": "_Tg8BEutUvas",
        "outputId": "7671fce3-9b0d-445c-f289-95c43bbc97b2"
      },
      "execution_count": 14,
      "outputs": [
        {
          "output_type": "display_data",
          "data": {
            "text/plain": [
              "<Figure size 432x288 with 1 Axes>"
            ],
            "image/png": "[encoded data removed]"
          },
          "metadata": {
            "needs_background": "light"
          }
        }
      ]
    },
    {
      "cell_type": "markdown",
      "source": [
        "## Analysis\n",
        "\n",
        "Loss and Accuracy: Training loss decreases with each epoch and the training accuracy increases with each epoch. This is expected when using a gradient descent optimizer. It should minimize the desired quantity on every iteration\n",
        "\n",
        "This isnt true for the the validation loss and accuracy - they seem to peak after about 20 epochs. This is an example of overfitting. The model performs better on the training data than it does on the data it has never seen before. After this point, the model over-optimizes and learns representations specific to the training data taht do not generalize to test the data\n",
        "\n",
        "For this case we can avoid overfitting by simply stopping the training after 20 epochs"
      ],
      "metadata": {
        "id": "RvMBKmwkVUy7"
      }
    }
  ]
}